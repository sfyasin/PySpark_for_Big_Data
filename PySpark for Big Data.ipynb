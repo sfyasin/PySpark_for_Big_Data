{
 "cells": [
  {
   "cell_type": "markdown",
   "metadata": {
    "id": "q9ROjAGE3Xwe"
   },
   "source": [
    "# PySpark for Big Data"
   ]
  },
  {
   "cell_type": "markdown",
   "metadata": {
    "id": "b1x0a8wS36Dg"
   },
   "source": [
    "Working with a large dataset through the PySpark Python library with Google Colaboratory (Colab)."
   ]
  },
  {
   "cell_type": "markdown",
   "metadata": {
    "id": "Q9D2nLzvpvXG"
   },
   "source": [
    "Apache Spark is an open-source cluster-computing framework, able to work with large datasets quickly by performing in-memory caching and computation. Pyspark is a Python API for Spark commonly used to manipulate big data.\n",
    "\n",
    "Cheat sheet: https://s3.amazonaws.com/assets.datacamp.com/blog_assets/PySpark_SQL_Cheat_Sheet_Python.pdf"
   ]
  },
  {
   "cell_type": "code",
   "execution_count": 2,
   "metadata": {
    "colab": {
     "base_uri": "https://localhost:8080/"
    },
    "id": "0OjLwFBPiHjE",
    "outputId": "530f2dc7-5fd9-414a-cc7b-315a3e4a19da"
   },
   "outputs": [
    {
     "name": "stdout",
     "output_type": "stream",
     "text": [
      "Requirement already satisfied: pyspark in /usr/local/lib/python3.11/dist-packages (3.5.4)\n",
      "Requirement already satisfied: py4j in /usr/local/lib/python3.11/dist-packages (0.10.9.7)\n"
     ]
    }
   ],
   "source": [
    "!pip install pyspark py4j"
   ]
  },
  {
   "cell_type": "markdown",
   "metadata": {
    "id": "AqVKUUfaPAFk"
   },
   "source": [
    "Creating Spark DataFrame:"
   ]
  },
  {
   "cell_type": "code",
   "execution_count": 3,
   "metadata": {
    "id": "EVkw1kauisG7"
   },
   "outputs": [],
   "source": [
    "from pyspark.sql import SparkSession\n",
    "from pyspark.sql.functions import col, trim, avg, round, when\n",
    "from pyspark import SparkFiles\n",
    "\n",
    "import pandas as pd\n",
    "import matplotlib.pyplot as plt\n",
    "import seaborn as sns"
   ]
  },
  {
   "cell_type": "code",
   "execution_count": 4,
   "metadata": {
    "id": "0DhoqhUfjLLR"
   },
   "outputs": [],
   "source": [
    "spark = SparkSession.builder.appName(\"populationdata\").getOrCreate()"
   ]
  },
  {
   "cell_type": "code",
   "execution_count": 5,
   "metadata": {
    "colab": {
     "base_uri": "https://localhost:8080/",
     "height": 219
    },
    "id": "VR8Wz35Srk2e",
    "outputId": "d6d715d8-ecad-49ad-b0c9-92880fe9fdda"
   },
   "outputs": [
    {
     "data": {
      "text/html": [
       "\n",
       "            <div>\n",
       "                <p><b>SparkSession - in-memory</b></p>\n",
       "                \n",
       "        <div>\n",
       "            <p><b>SparkContext</b></p>\n",
       "\n",
       "            <p><a href=\"http://46f1c4ea4a2b:4040\">Spark UI</a></p>\n",
       "\n",
       "            <dl>\n",
       "              <dt>Version</dt>\n",
       "                <dd><code>v3.5.4</code></dd>\n",
       "              <dt>Master</dt>\n",
       "                <dd><code>local[*]</code></dd>\n",
       "              <dt>AppName</dt>\n",
       "                <dd><code>populationdata</code></dd>\n",
       "            </dl>\n",
       "        </div>\n",
       "        \n",
       "            </div>\n",
       "        "
      ],
      "text/plain": [
       "<pyspark.sql.session.SparkSession at 0x78aeec46a950>"
      ]
     },
     "execution_count": 5,
     "metadata": {},
     "output_type": "execute_result"
    }
   ],
   "source": [
    "spark"
   ]
  },
  {
   "cell_type": "markdown",
   "metadata": {
    "id": "fniWWP-mUHbj"
   },
   "source": [
    "## Loading the dataset and EDA"
   ]
  },
  {
   "cell_type": "markdown",
   "metadata": {
    "id": "ARXXUB6T4YyX"
   },
   "source": [
    "The dataset shows population estimates by age and gender:\n",
    "\n",
    "   - PopMale: Male population for the individual age (thousands)\n",
    "   - PopFemale: Female population for the individual age (thousands)\n",
    "   - PopTotal: Total population for the individual age (thousands)\n",
    "\n",
    "Dataset link: https://population.un.org/wpp/."
   ]
  },
  {
   "cell_type": "code",
   "execution_count": 6,
   "metadata": {
    "id": "SIwmSmYtJSce"
   },
   "outputs": [],
   "source": [
    "from google.colab import drive"
   ]
  },
  {
   "cell_type": "code",
   "execution_count": 7,
   "metadata": {
    "colab": {
     "base_uri": "https://localhost:8080/"
    },
    "id": "UAEvb3tCJP5X",
    "outputId": "baf81c2b-5909-482b-fb25-34f7c4e51c08"
   },
   "outputs": [
    {
     "name": "stdout",
     "output_type": "stream",
     "text": [
      "Mounted at /content/drive\n"
     ]
    }
   ],
   "source": [
    "drive.mount('/content/drive')"
   ]
  },
  {
   "cell_type": "code",
   "execution_count": 8,
   "metadata": {
    "id": "W9PIO6ccj11y"
   },
   "outputs": [],
   "source": [
    "df = spark.read.csv(r\"/content/drive/MyDrive/Colab Notebooks/WPP2019_PopulationBySingleAgeSex_1950-2019.csv\", header=True)"
   ]
  },
  {
   "cell_type": "code",
   "execution_count": 9,
   "metadata": {
    "colab": {
     "base_uri": "https://localhost:8080/",
     "height": 187
    },
    "id": "0HBFMsS4S_0y",
    "outputId": "9f688d66-3460-4308-d325-3a2db31140a2"
   },
   "outputs": [
    {
     "data": {
      "text/html": [
       "<div style=\"max-width:800px; border: 1px solid var(--colab-border-color);\"><style>\n",
       "      pre.function-repr-contents {\n",
       "        overflow-x: auto;\n",
       "        padding: 8px 12px;\n",
       "        max-height: 500px;\n",
       "      }\n",
       "\n",
       "      pre.function-repr-contents.function-repr-contents-collapsed {\n",
       "        cursor: pointer;\n",
       "        max-height: 100px;\n",
       "      }\n",
       "    </style>\n",
       "    <pre style=\"white-space: initial; background:\n",
       "         var(--colab-secondary-surface-color); padding: 8px 12px;\n",
       "         border-bottom: 1px solid var(--colab-border-color);\"><b>pyspark.sql.dataframe.DataFrame</b><br/>def __init__(jdf: JavaObject, sql_ctx: Union[&#x27;SQLContext&#x27;, &#x27;SparkSession&#x27;])</pre><pre class=\"function-repr-contents function-repr-contents-collapsed\" style=\"\"><a class=\"filepath\" style=\"display:none\" href=\"#\">/usr/local/lib/python3.11/dist-packages/pyspark/sql/dataframe.py</a>A distributed collection of data grouped into named columns.\n",
       "\n",
       ".. versionadded:: 1.3.0\n",
       "\n",
       ".. versionchanged:: 3.4.0\n",
       "    Supports Spark Connect.\n",
       "\n",
       "Examples\n",
       "--------\n",
       "A :class:`DataFrame` is equivalent to a relational table in Spark SQL,\n",
       "and can be created using various functions in :class:`SparkSession`:\n",
       "\n",
       "&gt;&gt;&gt; people = spark.createDataFrame([\n",
       "...     {&quot;deptId&quot;: 1, &quot;age&quot;: 40, &quot;name&quot;: &quot;Hyukjin Kwon&quot;, &quot;gender&quot;: &quot;M&quot;, &quot;salary&quot;: 50},\n",
       "...     {&quot;deptId&quot;: 1, &quot;age&quot;: 50, &quot;name&quot;: &quot;Takuya Ueshin&quot;, &quot;gender&quot;: &quot;M&quot;, &quot;salary&quot;: 100},\n",
       "...     {&quot;deptId&quot;: 2, &quot;age&quot;: 60, &quot;name&quot;: &quot;Xinrong Meng&quot;, &quot;gender&quot;: &quot;F&quot;, &quot;salary&quot;: 150},\n",
       "...     {&quot;deptId&quot;: 3, &quot;age&quot;: 20, &quot;name&quot;: &quot;Haejoon Lee&quot;, &quot;gender&quot;: &quot;M&quot;, &quot;salary&quot;: 200}\n",
       "... ])\n",
       "\n",
       "Once created, it can be manipulated using the various domain-specific-language\n",
       "(DSL) functions defined in: :class:`DataFrame`, :class:`Column`.\n",
       "\n",
       "To select a column from the :class:`DataFrame`, use the apply method:\n",
       "\n",
       "&gt;&gt;&gt; age_col = people.age\n",
       "\n",
       "A more concrete example:\n",
       "\n",
       "&gt;&gt;&gt; # To create DataFrame using SparkSession\n",
       "... department = spark.createDataFrame([\n",
       "...     {&quot;id&quot;: 1, &quot;name&quot;: &quot;PySpark&quot;},\n",
       "...     {&quot;id&quot;: 2, &quot;name&quot;: &quot;ML&quot;},\n",
       "...     {&quot;id&quot;: 3, &quot;name&quot;: &quot;Spark SQL&quot;}\n",
       "... ])\n",
       "\n",
       "&gt;&gt;&gt; people.filter(people.age &gt; 30).join(\n",
       "...     department, people.deptId == department.id).groupBy(\n",
       "...     department.name, &quot;gender&quot;).agg({&quot;salary&quot;: &quot;avg&quot;, &quot;age&quot;: &quot;max&quot;}).show()\n",
       "+-------+------+-----------+--------+\n",
       "|   name|gender|avg(salary)|max(age)|\n",
       "+-------+------+-----------+--------+\n",
       "|     ML|     F|      150.0|      60|\n",
       "|PySpark|     M|       75.0|      50|\n",
       "+-------+------+-----------+--------+\n",
       "\n",
       "Notes\n",
       "-----\n",
       "A DataFrame should only be created as described above. It should not be directly\n",
       "created via using the constructor.</pre>\n",
       "      <script>\n",
       "      if (google.colab.kernel.accessAllowed && google.colab.files && google.colab.files.view) {\n",
       "        for (const element of document.querySelectorAll('.filepath')) {\n",
       "          element.style.display = 'block'\n",
       "          element.onclick = (event) => {\n",
       "            event.preventDefault();\n",
       "            event.stopPropagation();\n",
       "            google.colab.files.view(element.textContent, 80);\n",
       "          };\n",
       "        }\n",
       "      }\n",
       "      for (const element of document.querySelectorAll('.function-repr-contents')) {\n",
       "        element.onclick = (event) => {\n",
       "          event.preventDefault();\n",
       "          event.stopPropagation();\n",
       "          element.classList.toggle('function-repr-contents-collapsed');\n",
       "        };\n",
       "      }\n",
       "      </script>\n",
       "      </div>"
      ],
      "text/plain": [
       "pyspark.sql.dataframe.DataFrame"
      ]
     },
     "execution_count": 9,
     "metadata": {},
     "output_type": "execute_result"
    }
   ],
   "source": [
    "type(df)"
   ]
  },
  {
   "cell_type": "code",
   "execution_count": 10,
   "metadata": {
    "colab": {
     "base_uri": "https://localhost:8080/"
    },
    "id": "gjGaJckiP5Wq",
    "outputId": "c98fab75-dd1c-48bd-9d6a-b264db0a659d"
   },
   "outputs": [
    {
     "data": {
      "text/plain": [
       "DataFrame[LocID: string, Location: string, VarID: string, Variant: string, Time: string, MidPeriod: string, AgeGrp: string, AgeGrpStart: string, AgeGrpSpan: string, PopMale: string, PopFemale: string, PopTotal: string]"
      ]
     },
     "execution_count": 10,
     "metadata": {},
     "output_type": "execute_result"
    }
   ],
   "source": [
    "df"
   ]
  },
  {
   "cell_type": "code",
   "execution_count": 11,
   "metadata": {
    "colab": {
     "base_uri": "https://localhost:8080/"
    },
    "id": "x2oftXQoXLM5",
    "outputId": "f6af08e1-614c-4cff-d225-8e9451cd4a52"
   },
   "outputs": [
    {
     "data": {
      "text/plain": [
       "['LocID',\n",
       " 'Location',\n",
       " 'VarID',\n",
       " 'Variant',\n",
       " 'Time',\n",
       " 'MidPeriod',\n",
       " 'AgeGrp',\n",
       " 'AgeGrpStart',\n",
       " 'AgeGrpSpan',\n",
       " 'PopMale',\n",
       " 'PopFemale',\n",
       " 'PopTotal']"
      ]
     },
     "execution_count": 11,
     "metadata": {},
     "output_type": "execute_result"
    }
   ],
   "source": [
    "df.columns"
   ]
  },
  {
   "cell_type": "code",
   "execution_count": 12,
   "metadata": {
    "colab": {
     "base_uri": "https://localhost:8080/"
    },
    "id": "Or9UO3KfkO2j",
    "outputId": "e39befe1-0cbb-414a-a5f3-0b94f063e879"
   },
   "outputs": [
    {
     "data": {
      "text/plain": [
       "3132010"
      ]
     },
     "execution_count": 12,
     "metadata": {},
     "output_type": "execute_result"
    }
   ],
   "source": [
    "# Number of rows\n",
    "df.count()"
   ]
  },
  {
   "cell_type": "code",
   "execution_count": 13,
   "metadata": {
    "colab": {
     "base_uri": "https://localhost:8080/"
    },
    "id": "3OrPKvO1wwmF",
    "outputId": "6989ba92-dad6-4f69-dc5e-8c36e4a918a2"
   },
   "outputs": [
    {
     "data": {
      "text/plain": [
       "2"
      ]
     },
     "execution_count": 13,
     "metadata": {},
     "output_type": "execute_result"
    }
   ],
   "source": [
    "df.rdd.getNumPartitions()"
   ]
  },
  {
   "cell_type": "code",
   "execution_count": 14,
   "metadata": {
    "colab": {
     "base_uri": "https://localhost:8080/"
    },
    "id": "U46UOmCm-JGW",
    "outputId": "24c1ce26-3656-4da0-b98e-48006f996cde"
   },
   "outputs": [
    {
     "name": "stdout",
     "output_type": "stream",
     "text": [
      "root\n",
      " |-- LocID: string (nullable = true)\n",
      " |-- Location: string (nullable = true)\n",
      " |-- VarID: string (nullable = true)\n",
      " |-- Variant: string (nullable = true)\n",
      " |-- Time: string (nullable = true)\n",
      " |-- MidPeriod: string (nullable = true)\n",
      " |-- AgeGrp: string (nullable = true)\n",
      " |-- AgeGrpStart: string (nullable = true)\n",
      " |-- AgeGrpSpan: string (nullable = true)\n",
      " |-- PopMale: string (nullable = true)\n",
      " |-- PopFemale: string (nullable = true)\n",
      " |-- PopTotal: string (nullable = true)\n",
      "\n"
     ]
    }
   ],
   "source": [
    "df.printSchema()"
   ]
  },
  {
   "cell_type": "code",
   "execution_count": 15,
   "metadata": {
    "colab": {
     "base_uri": "https://localhost:8080/"
    },
    "id": "2gErdsL3kcMu",
    "outputId": "9b8fdd82-8dd3-4f4e-c571-86cc87f3c65b"
   },
   "outputs": [
    {
     "name": "stdout",
     "output_type": "stream",
     "text": [
      "+-----+-----------+-----+-------+----+---------+------+-----------+----------+-------+---------+--------+\n",
      "|LocID|   Location|VarID|Variant|Time|MidPeriod|AgeGrp|AgeGrpStart|AgeGrpSpan|PopMale|PopFemale|PopTotal|\n",
      "+-----+-----------+-----+-------+----+---------+------+-----------+----------+-------+---------+--------+\n",
      "|    4|Afghanistan|    2| Medium|1950|   1950.5|     0|          0|         1|139.669|  154.913| 294.582|\n",
      "|    4|Afghanistan|    2| Medium|1950|   1950.5|     1|          1|         1|131.916|  141.851| 273.767|\n",
      "|    4|Afghanistan|    2| Medium|1950|   1950.5|     2|          2|         1|125.127|  130.632| 255.759|\n",
      "|    4|Afghanistan|    2| Medium|1950|   1950.5|     3|          3|         1| 119.22|  121.097| 240.317|\n",
      "|    4|Afghanistan|    2| Medium|1950|   1950.5|     4|          4|         1|114.112|  113.085| 227.197|\n",
      "|    4|Afghanistan|    2| Medium|1950|   1950.5|     5|          5|         1|109.723|  106.436| 216.159|\n",
      "|    4|Afghanistan|    2| Medium|1950|   1950.5|     6|          6|         1|105.969|   100.99| 206.959|\n",
      "|    4|Afghanistan|    2| Medium|1950|   1950.5|     7|          7|         1|102.769|   96.585| 199.354|\n",
      "|    4|Afghanistan|    2| Medium|1950|   1950.5|     8|          8|         1|100.041|   93.063| 193.104|\n",
      "|    4|Afghanistan|    2| Medium|1950|   1950.5|     9|          9|         1| 97.704|   90.261| 187.965|\n",
      "|    4|Afghanistan|    2| Medium|1950|   1950.5|    10|         10|         1| 95.755|   88.171| 183.926|\n",
      "|    4|Afghanistan|    2| Medium|1950|   1950.5|    11|         11|         1| 94.192|   86.779| 180.971|\n",
      "|    4|Afghanistan|    2| Medium|1950|   1950.5|    12|         12|         1| 92.534|   85.181| 177.715|\n",
      "|    4|Afghanistan|    2| Medium|1950|   1950.5|    13|         13|         1| 90.537|   82.918| 173.455|\n",
      "|    4|Afghanistan|    2| Medium|1950|   1950.5|    14|         14|         1|  88.36|   80.277| 168.637|\n",
      "|    4|Afghanistan|    2| Medium|1950|   1950.5|    15|         15|         1| 86.374|   78.007| 164.381|\n",
      "|    4|Afghanistan|    2| Medium|1950|   1950.5|    16|         16|         1| 84.467|    75.96| 160.427|\n",
      "|    4|Afghanistan|    2| Medium|1950|   1950.5|    17|         17|         1| 82.703|   73.906| 156.609|\n",
      "|    4|Afghanistan|    2| Medium|1950|   1950.5|    18|         18|         1| 81.139|   71.804| 152.943|\n",
      "|    4|Afghanistan|    2| Medium|1950|   1950.5|    19|         19|         1| 79.686|   69.686| 149.372|\n",
      "+-----+-----------+-----+-------+----+---------+------+-----------+----------+-------+---------+--------+\n",
      "only showing top 20 rows\n",
      "\n"
     ]
    }
   ],
   "source": [
    "df.show()"
   ]
  },
  {
   "cell_type": "code",
   "execution_count": 16,
   "metadata": {
    "colab": {
     "base_uri": "https://localhost:8080/"
    },
    "id": "yzxQaJivXU-d",
    "outputId": "46d935c2-3b32-45d7-b86c-1b2c10accd50"
   },
   "outputs": [
    {
     "data": {
      "text/plain": [
       "DataFrame[summary: string, LocID: string, Location: string, VarID: string, Variant: string, Time: string, MidPeriod: string, AgeGrp: string, AgeGrpStart: string, AgeGrpSpan: string, PopMale: string, PopFemale: string, PopTotal: string]"
      ]
     },
     "execution_count": 16,
     "metadata": {},
     "output_type": "execute_result"
    }
   ],
   "source": [
    "df.describe()"
   ]
  },
  {
   "cell_type": "code",
   "execution_count": 17,
   "metadata": {
    "colab": {
     "base_uri": "https://localhost:8080/"
    },
    "id": "019DYlC1Xa4f",
    "outputId": "0fe4509a-68e5-41e8-f27e-ab2e066c3b99"
   },
   "outputs": [
    {
     "name": "stdout",
     "output_type": "stream",
     "text": [
      "+-------+------------------+-----------+-------+-------+------------------+------------------+----------------+----------------+-------------------+------------------+------------------+------------------+\n",
      "|summary|             LocID|   Location|  VarID|Variant|              Time|         MidPeriod|          AgeGrp|     AgeGrpStart|         AgeGrpSpan|           PopMale|         PopFemale|          PopTotal|\n",
      "+-------+------------------+-----------+-------+-------+------------------+------------------+----------------+----------------+-------------------+------------------+------------------+------------------+\n",
      "|  count|           3132010|    3132010|3132010|3132010|           3132010|           3132010|         3132010|         3132010|            3132010|           3132010|           3132010|           3132010|\n",
      "|   mean|1077.6884875846501|       NULL|    2.0|   NULL|            1984.5|            1985.0|            50.0|            50.0| 0.9801980198019802|2184.5058436405843|2150.7069902147655| 4335.212834608017|\n",
      "| stddev| 729.0730751937558|       NULL|    0.0|   NULL|20.205200576773656|20.205200576773656|29.1547641285493|29.1547641285493|0.19801983359245998| 6328.962790280066| 6037.801144930705|12363.838119026372|\n",
      "|    min|               100|Afghanistan|      2| Medium|              1950|            1950.5|               0|               0|                 -1|                 0|                 0|                 0|\n",
      "|    max|               986|   Zimbabwe|      2| Medium|              2019|            2019.5|              99|              99|                  1|          9999.967|          9999.992|         99991.504|\n",
      "+-------+------------------+-----------+-------+-------+------------------+------------------+----------------+----------------+-------------------+------------------+------------------+------------------+\n",
      "\n"
     ]
    }
   ],
   "source": [
    "df.describe().show()"
   ]
  },
  {
   "cell_type": "markdown",
   "metadata": {
    "id": "cUaRjQT1UKQA"
   },
   "source": [
    "Removing rows we do not need."
   ]
  },
  {
   "cell_type": "code",
   "execution_count": 18,
   "metadata": {
    "colab": {
     "base_uri": "https://localhost:8080/"
    },
    "id": "NGE3jFrNnKPN",
    "outputId": "eb5cada7-20c0-4c38-b865-7c32e2d85e07"
   },
   "outputs": [
    {
     "name": "stdout",
     "output_type": "stream",
     "text": [
      "+-----+-------+\n",
      "|VarID|Variant|\n",
      "+-----+-------+\n",
      "|    2| Medium|\n",
      "+-----+-------+\n",
      "\n"
     ]
    }
   ],
   "source": [
    "df.select('VarID', 'Variant').distinct().show()"
   ]
  },
  {
   "cell_type": "code",
   "execution_count": 19,
   "metadata": {
    "id": "FcUa1NXkUvuK"
   },
   "outputs": [],
   "source": [
    "df = df.drop('VarID', 'Variant')"
   ]
  },
  {
   "cell_type": "code",
   "execution_count": 20,
   "metadata": {
    "colab": {
     "base_uri": "https://localhost:8080/"
    },
    "id": "E9JqgSV8U0MO",
    "outputId": "87bb6fd2-3b55-4981-bc59-46649b9f3e62"
   },
   "outputs": [
    {
     "name": "stdout",
     "output_type": "stream",
     "text": [
      "+-----+-----------+----+---------+------+-----------+----------+-------+---------+--------+\n",
      "|LocID|   Location|Time|MidPeriod|AgeGrp|AgeGrpStart|AgeGrpSpan|PopMale|PopFemale|PopTotal|\n",
      "+-----+-----------+----+---------+------+-----------+----------+-------+---------+--------+\n",
      "|    4|Afghanistan|1950|   1950.5|     0|          0|         1|139.669|  154.913| 294.582|\n",
      "|    4|Afghanistan|1950|   1950.5|     1|          1|         1|131.916|  141.851| 273.767|\n",
      "|    4|Afghanistan|1950|   1950.5|     2|          2|         1|125.127|  130.632| 255.759|\n",
      "|    4|Afghanistan|1950|   1950.5|     3|          3|         1| 119.22|  121.097| 240.317|\n",
      "|    4|Afghanistan|1950|   1950.5|     4|          4|         1|114.112|  113.085| 227.197|\n",
      "|    4|Afghanistan|1950|   1950.5|     5|          5|         1|109.723|  106.436| 216.159|\n",
      "|    4|Afghanistan|1950|   1950.5|     6|          6|         1|105.969|   100.99| 206.959|\n",
      "|    4|Afghanistan|1950|   1950.5|     7|          7|         1|102.769|   96.585| 199.354|\n",
      "|    4|Afghanistan|1950|   1950.5|     8|          8|         1|100.041|   93.063| 193.104|\n",
      "|    4|Afghanistan|1950|   1950.5|     9|          9|         1| 97.704|   90.261| 187.965|\n",
      "|    4|Afghanistan|1950|   1950.5|    10|         10|         1| 95.755|   88.171| 183.926|\n",
      "|    4|Afghanistan|1950|   1950.5|    11|         11|         1| 94.192|   86.779| 180.971|\n",
      "|    4|Afghanistan|1950|   1950.5|    12|         12|         1| 92.534|   85.181| 177.715|\n",
      "|    4|Afghanistan|1950|   1950.5|    13|         13|         1| 90.537|   82.918| 173.455|\n",
      "|    4|Afghanistan|1950|   1950.5|    14|         14|         1|  88.36|   80.277| 168.637|\n",
      "|    4|Afghanistan|1950|   1950.5|    15|         15|         1| 86.374|   78.007| 164.381|\n",
      "|    4|Afghanistan|1950|   1950.5|    16|         16|         1| 84.467|    75.96| 160.427|\n",
      "|    4|Afghanistan|1950|   1950.5|    17|         17|         1| 82.703|   73.906| 156.609|\n",
      "|    4|Afghanistan|1950|   1950.5|    18|         18|         1| 81.139|   71.804| 152.943|\n",
      "|    4|Afghanistan|1950|   1950.5|    19|         19|         1| 79.686|   69.686| 149.372|\n",
      "+-----+-----------+----+---------+------+-----------+----------+-------+---------+--------+\n",
      "only showing top 20 rows\n",
      "\n"
     ]
    }
   ],
   "source": [
    "df.show()"
   ]
  },
  {
   "cell_type": "code",
   "execution_count": 21,
   "metadata": {
    "colab": {
     "base_uri": "https://localhost:8080/"
    },
    "id": "FetISlkDkfte",
    "outputId": "89604d4b-ba4a-464f-8ec9-410760872c2b"
   },
   "outputs": [
    {
     "data": {
      "text/plain": [
       "440"
      ]
     },
     "execution_count": 21,
     "metadata": {},
     "output_type": "execute_result"
    }
   ],
   "source": [
    "df.select('Location').distinct().count()"
   ]
  },
  {
   "cell_type": "code",
   "execution_count": 22,
   "metadata": {
    "colab": {
     "base_uri": "https://localhost:8080/"
    },
    "id": "RLp0s2DNm_9J",
    "outputId": "03988c01-c181-4c6c-eaf8-269db9e49ec9"
   },
   "outputs": [
    {
     "name": "stdout",
     "output_type": "stream",
     "text": [
      "+--------------------+\n",
      "|            Location|\n",
      "+--------------------+\n",
      "|       Côte d'Ivoire|\n",
      "| LLDC: Latin America|\n",
      "|                Chad|\n",
      "|ESCAP: income groups|\n",
      "|          Cabo Verde|\n",
      "|       ECE: UNECE-52|\n",
      "|ESCAP: ADB Develo...|\n",
      "|  ESCAP: high income|\n",
      "|Economic Cooperat...|\n",
      "|            Kiribati|\n",
      "|Europe and Northe...|\n",
      "|ECLAC: The Caribbean|\n",
      "|              Guyana|\n",
      "|             Eritrea|\n",
      "|Land-locked Count...|\n",
      "|            Djibouti|\n",
      "|ESCWA: Arab least...|\n",
      "|ESCWA: Maghreb co...|\n",
      "|                Fiji|\n",
      "|      ESCAP: low HDI|\n",
      "+--------------------+\n",
      "only showing top 20 rows\n",
      "\n"
     ]
    }
   ],
   "source": [
    "df.select('Location').distinct().show()"
   ]
  },
  {
   "cell_type": "markdown",
   "metadata": {
    "id": "wGId26gpvIhA"
   },
   "source": [
    "Ordering the results by Location and using the truncate=False option to display results in full."
   ]
  },
  {
   "cell_type": "code",
   "execution_count": 23,
   "metadata": {
    "colab": {
     "base_uri": "https://localhost:8080/"
    },
    "id": "6n-RKO9GQ9d7",
    "outputId": "3c3ea1e4-088d-4d32-dd31-53f2c0287817"
   },
   "outputs": [
    {
     "name": "stdout",
     "output_type": "stream",
     "text": [
      "+-----------------------------------------------------------------------------------------+\n",
      "|Location                                                                                 |\n",
      "+-----------------------------------------------------------------------------------------+\n",
      "|Afghanistan                                                                              |\n",
      "|Africa                                                                                   |\n",
      "|African Group                                                                            |\n",
      "|African Union                                                                            |\n",
      "|African Union: Central Africa                                                            |\n",
      "|African Union: Eastern Africa                                                            |\n",
      "|African Union: Northern Africa                                                           |\n",
      "|African Union: Southern Africa                                                           |\n",
      "|African Union: Western Africa                                                            |\n",
      "|African, Caribbean and Pacific (ACP) Group of States                                     |\n",
      "|Albania                                                                                  |\n",
      "|Algeria                                                                                  |\n",
      "|Andean Community                                                                         |\n",
      "|Angola                                                                                   |\n",
      "|Antigua and Barbuda                                                                      |\n",
      "|Argentina                                                                                |\n",
      "|Armenia                                                                                  |\n",
      "|Aruba                                                                                    |\n",
      "|Asia                                                                                     |\n",
      "|Asia-Pacific Economic Cooperation (APEC)                                                 |\n",
      "|Asia-Pacific Group                                                                       |\n",
      "|Association of Southeast Asian Nations (ASEAN)                                           |\n",
      "|Australia                                                                                |\n",
      "|Australia/New Zealand                                                                    |\n",
      "|Austria                                                                                  |\n",
      "|Azerbaijan                                                                               |\n",
      "|BRIC                                                                                     |\n",
      "|BRICS                                                                                    |\n",
      "|Bahamas                                                                                  |\n",
      "|Bahrain                                                                                  |\n",
      "|Bangladesh                                                                               |\n",
      "|Barbados                                                                                 |\n",
      "|Belarus                                                                                  |\n",
      "|Belgium                                                                                  |\n",
      "|Belize                                                                                   |\n",
      "|Belt-Road Initiative (BRI)                                                               |\n",
      "|Belt-Road Initiative: Africa                                                             |\n",
      "|Belt-Road Initiative: Asia                                                               |\n",
      "|Belt-Road Initiative: Europe                                                             |\n",
      "|Belt-Road Initiative: Latin America and the Caribbean                                    |\n",
      "|Belt-Road Initiative: Pacific                                                            |\n",
      "|Benin                                                                                    |\n",
      "|Bhutan                                                                                   |\n",
      "|Black Sea Economic Cooperation (BSEC)                                                    |\n",
      "|Bolivarian Alliance for the Americas (ALBA)                                              |\n",
      "|Bolivia (Plurinational State of)                                                         |\n",
      "|Bosnia and Herzegovina                                                                   |\n",
      "|Botswana                                                                                 |\n",
      "|Brazil                                                                                   |\n",
      "|Brunei Darussalam                                                                        |\n",
      "|Bulgaria                                                                                 |\n",
      "|Burkina Faso                                                                             |\n",
      "|Burundi                                                                                  |\n",
      "|Cabo Verde                                                                               |\n",
      "|Cambodia                                                                                 |\n",
      "|Cameroon                                                                                 |\n",
      "|Canada                                                                                   |\n",
      "|Caribbean                                                                                |\n",
      "|Caribbean Community and Common Market (CARICOM)                                          |\n",
      "|Central African Republic                                                                 |\n",
      "|Central America                                                                          |\n",
      "|Central Asia                                                                             |\n",
      "|Central European Free Trade Agreement (CEFTA)                                            |\n",
      "|Central and Southern Asia                                                                |\n",
      "|Chad                                                                                     |\n",
      "|Channel Islands                                                                          |\n",
      "|Chile                                                                                    |\n",
      "|China                                                                                    |\n",
      "|China (and dependencies)                                                                 |\n",
      "|China, Hong Kong SAR                                                                     |\n",
      "|China, Macao SAR                                                                         |\n",
      "|China, Taiwan Province of China                                                          |\n",
      "|Colombia                                                                                 |\n",
      "|Commonwealth of Independent States (CIS)                                                 |\n",
      "|Commonwealth of Nations                                                                  |\n",
      "|Commonwealth: Africa                                                                     |\n",
      "|Commonwealth: Asia                                                                       |\n",
      "|Commonwealth: Caribbean and Americas                                                     |\n",
      "|Commonwealth: Europe                                                                     |\n",
      "|Commonwealth: Pacific                                                                    |\n",
      "|Comoros                                                                                  |\n",
      "|Congo                                                                                    |\n",
      "|Costa Rica                                                                               |\n",
      "|Countries with Access to the Sea                                                         |\n",
      "|Countries with Access to the Sea: Africa                                                 |\n",
      "|Countries with Access to the Sea: Asia                                                   |\n",
      "|Countries with Access to the Sea: Europe                                                 |\n",
      "|Countries with Access to the Sea: Latin America and the Caribbean                        |\n",
      "|Countries with Access to the Sea: Northern America                                       |\n",
      "|Countries with Access to the Sea: Oceania                                                |\n",
      "|Croatia                                                                                  |\n",
      "|Cuba                                                                                     |\n",
      "|Curaçao                                                                                  |\n",
      "|Cyprus                                                                                   |\n",
      "|Czechia                                                                                  |\n",
      "|Côte d'Ivoire                                                                            |\n",
      "|Dem. People's Republic of Korea                                                          |\n",
      "|Democratic Republic of the Congo                                                         |\n",
      "|Denmark                                                                                  |\n",
      "|Denmark (and dependencies)                                                               |\n",
      "|Djibouti                                                                                 |\n",
      "|Dominican Republic                                                                       |\n",
      "|ECE: North America-2                                                                     |\n",
      "|ECE: UNECE-52                                                                            |\n",
      "|ECLAC: Latin America                                                                     |\n",
      "|ECLAC: The Caribbean                                                                     |\n",
      "|ESCAP region: East and North-East Asia                                                   |\n",
      "|ESCAP region: North and Central Asia                                                     |\n",
      "|ESCAP region: Pacific                                                                    |\n",
      "|ESCAP region: South and South-West Asia                                                  |\n",
      "|ESCAP region: South-East Asia                                                            |\n",
      "|ESCAP: ADB Developing member countries (DMCs)                                            |\n",
      "|ESCAP: ADB Group A (Concessional assistance only)                                        |\n",
      "|ESCAP: ADB Group B (OCR blend)                                                           |\n",
      "|ESCAP: ADB Group C (Regular OCR only)                                                    |\n",
      "|ESCAP: ASEAN                                                                             |\n",
      "|ESCAP: Central Asia                                                                      |\n",
      "|ESCAP: ECO                                                                               |\n",
      "|ESCAP: HDI groups                                                                        |\n",
      "|ESCAP: Landlocked countries (LLDCs)                                                      |\n",
      "|ESCAP: Least Developed Countries (LDCs)                                                  |\n",
      "|ESCAP: Pacific island dev. econ.                                                         |\n",
      "|ESCAP: SAARC                                                                             |\n",
      "|ESCAP: WB High income econ.                                                              |\n",
      "|ESCAP: WB Low income econ.                                                               |\n",
      "|ESCAP: WB Lower middle income econ.                                                      |\n",
      "|ESCAP: WB Upper middle income econ.                                                      |\n",
      "|ESCAP: WB income groups                                                                  |\n",
      "|ESCAP: high HDI                                                                          |\n",
      "|ESCAP: high income                                                                       |\n",
      "|ESCAP: income groups                                                                     |\n",
      "|ESCAP: low HDI                                                                           |\n",
      "|ESCAP: low income                                                                        |\n",
      "|ESCAP: lower middle HDI                                                                  |\n",
      "|ESCAP: lower middle income                                                               |\n",
      "|ESCAP: other Asia-Pacific countries/areas                                                |\n",
      "|ESCAP: upper middle HDI                                                                  |\n",
      "|ESCAP: upper middle income                                                               |\n",
      "|ESCWA: Arab countries                                                                    |\n",
      "|ESCWA: Arab least developed countries                                                    |\n",
      "|ESCWA: Gulf Cooperation Council countries                                                |\n",
      "|ESCWA: Maghreb countries                                                                 |\n",
      "|ESCWA: Mashreq countries                                                                 |\n",
      "|ESCWA: member countries                                                                  |\n",
      "|East African Community (EAC)                                                             |\n",
      "|Eastern Africa                                                                           |\n",
      "|Eastern Asia                                                                             |\n",
      "|Eastern Europe                                                                           |\n",
      "|Eastern European Group                                                                   |\n",
      "|Eastern and South-Eastern Asia                                                           |\n",
      "|Economic Community of Central African States (ECCAS)                                     |\n",
      "|Economic Community of West African States (ECOWAS)                                       |\n",
      "|Economic Cooperation Organization (ECO)                                                  |\n",
      "|Ecuador                                                                                  |\n",
      "|Egypt                                                                                    |\n",
      "|El Salvador                                                                              |\n",
      "|Equatorial Guinea                                                                        |\n",
      "|Eritrea                                                                                  |\n",
      "|Estonia                                                                                  |\n",
      "|Eswatini                                                                                 |\n",
      "|Ethiopia                                                                                 |\n",
      "|Eurasian Economic Community (Eurasec)                                                    |\n",
      "|Europe                                                                                   |\n",
      "|Europe (48)                                                                              |\n",
      "|Europe and Northern America                                                              |\n",
      "|European Community (EC: 12)                                                              |\n",
      "|European Free Trade Agreement (EFTA)                                                     |\n",
      "|European Union (EU: 15)                                                                  |\n",
      "|European Union (EU: 28)                                                                  |\n",
      "|Fiji                                                                                     |\n",
      "|Finland                                                                                  |\n",
      "|France                                                                                   |\n",
      "|France (and dependencies)                                                                |\n",
      "|French Guiana                                                                            |\n",
      "|French Polynesia                                                                         |\n",
      "|Gabon                                                                                    |\n",
      "|Gambia                                                                                   |\n",
      "|Georgia                                                                                  |\n",
      "|Germany                                                                                  |\n",
      "|Ghana                                                                                    |\n",
      "|Greater Arab Free Trade Area (GAFTA)                                                     |\n",
      "|Greece                                                                                   |\n",
      "|Grenada                                                                                  |\n",
      "|Group of 77 (G77)                                                                        |\n",
      "|Group of Eight (G8)                                                                      |\n",
      "|Group of Seven (G7)                                                                      |\n",
      "|Group of Twenty (G20) - member states                                                    |\n",
      "|Guadeloupe                                                                               |\n",
      "|Guam                                                                                     |\n",
      "|Guatemala                                                                                |\n",
      "|Guinea                                                                                   |\n",
      "|Guinea-Bissau                                                                            |\n",
      "|Gulf Cooperation Council (GCC)                                                           |\n",
      "|Guyana                                                                                   |\n",
      "|Haiti                                                                                    |\n",
      "|High-income countries                                                                    |\n",
      "|Honduras                                                                                 |\n",
      "|Hungary                                                                                  |\n",
      "|Iceland                                                                                  |\n",
      "|India                                                                                    |\n",
      "|Indonesia                                                                                |\n",
      "|Iran (Islamic Republic of)                                                               |\n",
      "|Iraq                                                                                     |\n",
      "|Ireland                                                                                  |\n",
      "|Israel                                                                                   |\n",
      "|Italy                                                                                    |\n",
      "|Jamaica                                                                                  |\n",
      "|Japan                                                                                    |\n",
      "|Jordan                                                                                   |\n",
      "|Kazakhstan                                                                               |\n",
      "|Kenya                                                                                    |\n",
      "|Kiribati                                                                                 |\n",
      "|Kuwait                                                                                   |\n",
      "|Kyrgyzstan                                                                               |\n",
      "|LLDC: Africa                                                                             |\n",
      "|LLDC: Asia                                                                               |\n",
      "|LLDC: Europe                                                                             |\n",
      "|LLDC: Latin America                                                                      |\n",
      "|Land-locked Countries                                                                    |\n",
      "|Land-locked Countries (Others)                                                           |\n",
      "|Land-locked Developing Countries (LLDC)                                                  |\n",
      "|Lao People's Democratic Republic                                                         |\n",
      "|Latin America and the Caribbean                                                          |\n",
      "|Latin American Integration Association (ALADI)                                           |\n",
      "|Latin American and Caribbean Group (GRULAC)                                              |\n",
      "|Latvia                                                                                   |\n",
      "|League of Arab States (LAS, informal name: Arab League)                                  |\n",
      "|Least developed countries                                                                |\n",
      "|Least developed: Africa                                                                  |\n",
      "|Least developed: Asia                                                                    |\n",
      "|Least developed: Latin America and the Caribbean                                         |\n",
      "|Least developed: Oceania                                                                 |\n",
      "|Lebanon                                                                                  |\n",
      "|Lesotho                                                                                  |\n",
      "|Less developed regions                                                                   |\n",
      "|Less developed regions, excluding China                                                  |\n",
      "|Less developed regions, excluding least developed countries                              |\n",
      "|Less developed: Africa                                                                   |\n",
      "|Less developed: Asia                                                                     |\n",
      "|Less developed: Latin America and the Caribbean                                          |\n",
      "|Less developed: Oceania                                                                  |\n",
      "|Liberia                                                                                  |\n",
      "|Libya                                                                                    |\n",
      "|Lithuania                                                                                |\n",
      "|Low-income countries                                                                     |\n",
      "|Lower-middle-income countries                                                            |\n",
      "|Luxembourg                                                                               |\n",
      "|Madagascar                                                                               |\n",
      "|Malawi                                                                                   |\n",
      "|Malaysia                                                                                 |\n",
      "|Maldives                                                                                 |\n",
      "|Mali                                                                                     |\n",
      "|Malta                                                                                    |\n",
      "|Martinique                                                                               |\n",
      "|Mauritania                                                                               |\n",
      "|Mauritius                                                                                |\n",
      "|Mayotte                                                                                  |\n",
      "|Melanesia                                                                                |\n",
      "|Mexico                                                                                   |\n",
      "|Micronesia                                                                               |\n",
      "|Micronesia (Fed. States of)                                                              |\n",
      "|Middle Africa                                                                            |\n",
      "|Middle-income countries                                                                  |\n",
      "|Mongolia                                                                                 |\n",
      "|Montenegro                                                                               |\n",
      "|More developed regions                                                                   |\n",
      "|More developed: Asia                                                                     |\n",
      "|More developed: Europe                                                                   |\n",
      "|More developed: Northern America                                                         |\n",
      "|More developed: Oceania                                                                  |\n",
      "|Morocco                                                                                  |\n",
      "|Mozambique                                                                               |\n",
      "|Myanmar                                                                                  |\n",
      "|Namibia                                                                                  |\n",
      "|Nepal                                                                                    |\n",
      "|Netherlands                                                                              |\n",
      "|Netherlands (and dependencies)                                                           |\n",
      "|New Caledonia                                                                            |\n",
      "|New EU member states (joined since 2004)                                                 |\n",
      "|New Zealand                                                                              |\n",
      "|New Zealand (and dependencies)                                                           |\n",
      "|Nicaragua                                                                                |\n",
      "|Niger                                                                                    |\n",
      "|Nigeria                                                                                  |\n",
      "|No income group available                                                                |\n",
      "|Non-Self-Governing Territories                                                           |\n",
      "|North American Free Trade Agreement (NAFTA)                                              |\n",
      "|North Atlantic Treaty Organization (NATO)                                                |\n",
      "|North Macedonia                                                                          |\n",
      "|Northern Africa                                                                          |\n",
      "|Northern Africa and Western Asia                                                         |\n",
      "|Northern America                                                                         |\n",
      "|Northern Europe                                                                          |\n",
      "|Norway                                                                                   |\n",
      "|Oceania                                                                                  |\n",
      "|Oceania (excluding Australia and New Zealand)                                            |\n",
      "|Oman                                                                                     |\n",
      "|Organisation for Economic Co-operation and Development (OECD)                            |\n",
      "|Organization for Security and Co-operation in Europe (OSCE)                              |\n",
      "|Organization of American States (OAS)                                                    |\n",
      "|Organization of Petroleum Exporting countries (OPEC)                                     |\n",
      "|Organization of the Islamic Conference (OIC)                                             |\n",
      "|Pakistan                                                                                 |\n",
      "|Panama                                                                                   |\n",
      "|Papua New Guinea                                                                         |\n",
      "|Paraguay                                                                                 |\n",
      "|Peru                                                                                     |\n",
      "|Philippines                                                                              |\n",
      "|Poland                                                                                   |\n",
      "|Polynesia                                                                                |\n",
      "|Portugal                                                                                 |\n",
      "|Puerto Rico                                                                              |\n",
      "|Qatar                                                                                    |\n",
      "|Republic of Korea                                                                        |\n",
      "|Republic of Moldova                                                                      |\n",
      "|Romania                                                                                  |\n",
      "|Russian Federation                                                                       |\n",
      "|Rwanda                                                                                   |\n",
      "|Réunion                                                                                  |\n",
      "|SIDS Atlantic, and Indian Ocean, Mediterranean and South China Sea (AIMS)                |\n",
      "|SIDS Caribbean                                                                           |\n",
      "|SIDS Pacific                                                                             |\n",
      "|Saint Lucia                                                                              |\n",
      "|Saint Vincent and the Grenadines                                                         |\n",
      "|Samoa                                                                                    |\n",
      "|Sao Tome and Principe                                                                    |\n",
      "|Saudi Arabia                                                                             |\n",
      "|Senegal                                                                                  |\n",
      "|Serbia                                                                                   |\n",
      "|Seychelles                                                                               |\n",
      "|Shanghai Cooperation Organization (SCO)                                                  |\n",
      "|Sierra Leone                                                                             |\n",
      "|Singapore                                                                                |\n",
      "|Slovakia                                                                                 |\n",
      "|Slovenia                                                                                 |\n",
      "|Small Island Developing States (SIDS)                                                    |\n",
      "|Solomon Islands                                                                          |\n",
      "|Somalia                                                                                  |\n",
      "|South Africa                                                                             |\n",
      "|South America                                                                            |\n",
      "|South Asian Association for Regional Cooperation (SAARC)                                 |\n",
      "|South Sudan                                                                              |\n",
      "|South-Eastern Asia                                                                       |\n",
      "|Southern Africa                                                                          |\n",
      "|Southern African Development Community (SADC)                                            |\n",
      "|Southern Asia                                                                            |\n",
      "|Southern Common Market (MERCOSUR)                                                        |\n",
      "|Southern Europe                                                                          |\n",
      "|Spain                                                                                    |\n",
      "|Sri Lanka                                                                                |\n",
      "|State of Palestine                                                                       |\n",
      "|Sub-Saharan Africa                                                                       |\n",
      "|Sudan                                                                                    |\n",
      "|Suriname                                                                                 |\n",
      "|Sweden                                                                                   |\n",
      "|Switzerland                                                                              |\n",
      "|Syrian Arab Republic                                                                     |\n",
      "|Tajikistan                                                                               |\n",
      "|Thailand                                                                                 |\n",
      "|Timor-Leste                                                                              |\n",
      "|Togo                                                                                     |\n",
      "|Tonga                                                                                    |\n",
      "|Trinidad and Tobago                                                                      |\n",
      "|Tunisia                                                                                  |\n",
      "|Turkey                                                                                   |\n",
      "|Turkmenistan                                                                             |\n",
      "|UN-ECE: member countries                                                                 |\n",
      "|UNFPA Regions                                                                            |\n",
      "|UNFPA: Arab States (AS)                                                                  |\n",
      "|UNFPA: Asia and the Pacific (AP)                                                         |\n",
      "|UNFPA: East and Southern Africa (ESA)                                                    |\n",
      "|UNFPA: Eastern Europe and Central Asia (EECA)                                            |\n",
      "|UNFPA: Latin America and the Caribbean (LAC)                                             |\n",
      "|UNFPA: West and Central Africa (WCA)                                                     |\n",
      "|UNICEF PROGRAMME REGIONS                                                                 |\n",
      "|UNICEF Programme Regions: East Asia and Pacific (EAPRO)                                  |\n",
      "|UNICEF Programme Regions: Eastern Caribbean                                              |\n",
      "|UNICEF Programme Regions: Eastern and Southern Africa (ESARO)                            |\n",
      "|UNICEF Programme Regions: Europe and Central Asia (CEECIS)                               |\n",
      "|UNICEF Programme Regions: Latin America                                                  |\n",
      "|UNICEF Programme Regions: Latin America and Caribbean (LACRO)                            |\n",
      "|UNICEF Programme Regions: Middle East and North Africa (MENARO)                          |\n",
      "|UNICEF Programme Regions: South Asia (ROSA)                                              |\n",
      "|UNICEF Programme Regions: West and Central Africa (WCARO)                                |\n",
      "|UNICEF REGIONS                                                                           |\n",
      "|UNICEF Regions: East Asia and Pacific                                                    |\n",
      "|UNICEF Regions: Eastern Europe and Central Asia                                          |\n",
      "|UNICEF Regions: Eastern and Southern Africa                                              |\n",
      "|UNICEF Regions: Europe and Central Asia                                                  |\n",
      "|UNICEF Regions: Latin America and Caribbean                                              |\n",
      "|UNICEF Regions: Middle East and North Africa                                             |\n",
      "|UNICEF Regions: North America                                                            |\n",
      "|UNICEF Regions: South Asia                                                               |\n",
      "|UNICEF Regions: Sub-Saharan Africa                                                       |\n",
      "|UNICEF Regions: West and Central Africa                                                  |\n",
      "|UNICEF Regions: Western Europe                                                           |\n",
      "|UNITED NATIONS Regional Groups of Member States                                          |\n",
      "|Uganda                                                                                   |\n",
      "|Ukraine                                                                                  |\n",
      "|United Arab Emirates                                                                     |\n",
      "|United Kingdom                                                                           |\n",
      "|United Kingdom (and dependencies)                                                        |\n",
      "|United Nations Economic Commission for Africa (UN-ECA)                                   |\n",
      "|United Nations Economic Commission for Latin America and the Caribbean (UN-ECLAC)        |\n",
      "|United Nations Economic and Social Commission for Asia and the Pacific (UN-ESCAP) Regions|\n",
      "|United Nations Member States                                                             |\n",
      "|United Republic of Tanzania                                                              |\n",
      "|United States Virgin Islands                                                             |\n",
      "|United States of America                                                                 |\n",
      "|United States of America (and dependencies)                                              |\n",
      "|Upper-middle-income countries                                                            |\n",
      "|Uruguay                                                                                  |\n",
      "|Uzbekistan                                                                               |\n",
      "|Vanuatu                                                                                  |\n",
      "|Venezuela (Bolivarian Republic of)                                                       |\n",
      "|Viet Nam                                                                                 |\n",
      "|WB region: East Asia and Pacific (excluding high income)                                 |\n",
      "|WB region: Europe and Central Asia (excluding high income)                               |\n",
      "|WB region: Latin America and Caribbean (excluding high income)                           |\n",
      "|WB region: Middle East and North Africa (excluding high income)                          |\n",
      "|WB region: South Asia (excluding high income)                                            |\n",
      "|WB region: Sub-Saharan Africa (excluding high income)                                    |\n",
      "|WHO Regions                                                                              |\n",
      "|WHO: African region (AFRO)                                                               |\n",
      "|WHO: Americas (AMRO)                                                                     |\n",
      "|WHO: Eastern Mediterranean Region (EMRO)                                                 |\n",
      "|WHO: European Region (EURO)                                                              |\n",
      "|WHO: South-East Asia region (SEARO)                                                      |\n",
      "|WHO: Western Pacific region (WPRO)                                                       |\n",
      "|West African Economic and Monetary Union (UEMOA)                                         |\n",
      "|Western Africa                                                                           |\n",
      "|Western Asia                                                                             |\n",
      "|Western Europe                                                                           |\n",
      "|Western European and Others Group (WEOG)                                                 |\n",
      "|Western Sahara                                                                           |\n",
      "|World                                                                                    |\n",
      "|World Bank Regional Groups (developing only)                                             |\n",
      "|Yemen                                                                                    |\n",
      "|Zambia                                                                                   |\n",
      "|Zimbabwe                                                                                 |\n",
      "+-----------------------------------------------------------------------------------------+\n",
      "\n"
     ]
    }
   ],
   "source": [
    "df.select('Location').distinct().orderBy('Location').show(440, truncate=False)"
   ]
  },
  {
   "cell_type": "markdown",
   "metadata": {
    "id": "4yDHFBOxvoAu"
   },
   "source": [
    "Checking for missing values in the dataset."
   ]
  },
  {
   "cell_type": "code",
   "execution_count": 24,
   "metadata": {
    "colab": {
     "base_uri": "https://localhost:8080/"
    },
    "id": "ED5mlcDZWQ_y",
    "outputId": "c844f045-d26a-4da6-a06a-3828ece51277"
   },
   "outputs": [
    {
     "data": {
      "text/plain": [
       "0"
      ]
     },
     "execution_count": 24,
     "metadata": {},
     "output_type": "execute_result"
    }
   ],
   "source": [
    "df.count() - df.na.drop().count()"
   ]
  },
  {
   "cell_type": "markdown",
   "metadata": {
    "id": "vM0ibqHheNwi"
   },
   "source": [
    "## Convert types"
   ]
  },
  {
   "cell_type": "markdown",
   "metadata": {
    "id": "tp9mGREhvt9b"
   },
   "source": [
    "All columns are in the form of strings. Converting some of the columns to type float."
   ]
  },
  {
   "cell_type": "code",
   "execution_count": 25,
   "metadata": {
    "id": "AhMt9KiAAQWm"
   },
   "outputs": [],
   "source": [
    "floatcols = ['MidPeriod', 'PopMale', 'PopFemale', 'PopTotal']\n",
    "\n",
    "for col_name in floatcols:\n",
    "    df = df.withColumn(col_name, trim(col(col_name)).cast('float'))"
   ]
  },
  {
   "cell_type": "markdown",
   "metadata": {
    "id": "K3rr3rErWiLZ"
   },
   "source": [
    "Converting the Time, AgeGrp, AgeGrpStart, AgeGrpSpan columns into integers."
   ]
  },
  {
   "cell_type": "code",
   "execution_count": 26,
   "metadata": {
    "id": "ccgnri3hJgk2"
   },
   "outputs": [],
   "source": [
    "intcols = ['Time', 'AgeGrp', 'AgeGrpStart', 'AgeGrpSpan']\n",
    "\n",
    "for col_name in intcols:\n",
    "    df = df.withColumn(col_name, trim(col(col_name)).cast('int'))"
   ]
  },
  {
   "cell_type": "code",
   "execution_count": 27,
   "metadata": {
    "colab": {
     "base_uri": "https://localhost:8080/"
    },
    "id": "O6S0JbDWDJM1",
    "outputId": "741c9171-8c5c-4b17-cec8-3207d608289e"
   },
   "outputs": [
    {
     "name": "stdout",
     "output_type": "stream",
     "text": [
      "root\n",
      " |-- LocID: string (nullable = true)\n",
      " |-- Location: string (nullable = true)\n",
      " |-- Time: integer (nullable = true)\n",
      " |-- MidPeriod: float (nullable = true)\n",
      " |-- AgeGrp: integer (nullable = true)\n",
      " |-- AgeGrpStart: integer (nullable = true)\n",
      " |-- AgeGrpSpan: integer (nullable = true)\n",
      " |-- PopMale: float (nullable = true)\n",
      " |-- PopFemale: float (nullable = true)\n",
      " |-- PopTotal: float (nullable = true)\n",
      "\n"
     ]
    }
   ],
   "source": [
    "df.printSchema()"
   ]
  },
  {
   "cell_type": "markdown",
   "metadata": {
    "id": "Y_A8nwmrlFQH"
   },
   "source": [
    "## Answering some queries about the data\n",
    "\n",
    "Using filter to select a subset of rows satisfying a True/False condition:"
   ]
  },
  {
   "cell_type": "markdown",
   "metadata": {
    "id": "NPrXmt9ZlPjH"
   },
   "source": [
    "What was the population breakdown by age and gender in Australia in 1970?"
   ]
  },
  {
   "cell_type": "code",
   "execution_count": 28,
   "metadata": {
    "colab": {
     "base_uri": "https://localhost:8080/"
    },
    "id": "JkwtyIjbeAR2",
    "outputId": "c23b338e-02b7-45e0-f7e1-dcc0d196b26b"
   },
   "outputs": [
    {
     "name": "stdout",
     "output_type": "stream",
     "text": [
      "+-----+---------+----+---------+------+-----------+----------+-------+---------+--------+\n",
      "|LocID| Location|Time|MidPeriod|AgeGrp|AgeGrpStart|AgeGrpSpan|PopMale|PopFemale|PopTotal|\n",
      "+-----+---------+----+---------+------+-----------+----------+-------+---------+--------+\n",
      "|   36|Australia|1970|   1970.5|     0|          0|         1|126.482|   121.47| 247.952|\n",
      "|   36|Australia|1970|   1970.5|     1|          1|         1|126.326|  120.997| 247.323|\n",
      "|   36|Australia|1970|   1970.5|     2|          2|         1|126.439|  120.829| 247.268|\n",
      "|   36|Australia|1970|   1970.5|     3|          3|         1|126.751|  120.899|  247.65|\n",
      "|   36|Australia|1970|   1970.5|     4|          4|         1|127.193|   121.14| 248.333|\n",
      "|   36|Australia|1970|   1970.5|     5|          5|         1|127.698|  121.488| 249.186|\n",
      "|   36|Australia|1970|   1970.5|     6|          6|         1|128.196|  121.877| 250.073|\n",
      "|   36|Australia|1970|   1970.5|     7|          7|         1|128.619|  122.239| 250.858|\n",
      "|   36|Australia|1970|   1970.5|     8|          8|         1|128.899|  122.509| 251.408|\n",
      "|   36|Australia|1970|   1970.5|     9|          9|         1|128.966|  122.622| 251.588|\n",
      "|   36|Australia|1970|   1970.5|    10|         10|         1|129.052|  122.767| 251.819|\n",
      "|   36|Australia|1970|   1970.5|    11|         11|         1|129.387|  123.136| 252.523|\n",
      "|   36|Australia|1970|   1970.5|    12|         12|         1|128.406|  122.379| 250.785|\n",
      "|   36|Australia|1970|   1970.5|    13|         13|         1|125.443|  119.917|  245.36|\n",
      "|   36|Australia|1970|   1970.5|    14|         14|         1|121.327|  116.454| 237.781|\n",
      "|   36|Australia|1970|   1970.5|    15|         15|         1|117.222|  112.965| 230.187|\n",
      "|   36|Australia|1970|   1970.5|    16|         16|         1|112.497|  108.889| 221.386|\n",
      "|   36|Australia|1970|   1970.5|    17|         17|         1|109.894|  106.646|  216.54|\n",
      "|   36|Australia|1970|   1970.5|    18|         18|         1|110.768|  107.424| 218.192|\n",
      "|   36|Australia|1970|   1970.5|    19|         19|         1|113.664|  109.919| 223.583|\n",
      "|   36|Australia|1970|   1970.5|    20|         20|         1|116.046|  111.945| 227.991|\n",
      "|   36|Australia|1970|   1970.5|    21|         21|         1|118.751|  114.298| 233.049|\n",
      "|   36|Australia|1970|   1970.5|    22|         22|         1|118.977|  114.131| 233.108|\n",
      "|   36|Australia|1970|   1970.5|    23|         23|         1|115.181|   109.92| 225.101|\n",
      "|   36|Australia|1970|   1970.5|    24|         24|         1|108.851|  103.183| 212.034|\n",
      "|   36|Australia|1970|   1970.5|    25|         25|         1|102.991|   96.906| 199.897|\n",
      "|   36|Australia|1970|   1970.5|    26|         26|         1| 96.971|   90.427| 187.398|\n",
      "|   36|Australia|1970|   1970.5|    27|         27|         1| 91.963|   85.208| 177.171|\n",
      "|   36|Australia|1970|   1970.5|    28|         28|         1| 88.842|   82.256| 171.098|\n",
      "|   36|Australia|1970|   1970.5|    29|         29|         1| 86.981|   80.812| 167.793|\n",
      "|   36|Australia|1970|   1970.5|    30|         30|         1|  84.94|   79.156| 164.096|\n",
      "|   36|Australia|1970|   1970.5|    31|         31|         1|  83.08|   77.693| 160.773|\n",
      "|   36|Australia|1970|   1970.5|    32|         32|         1| 81.239|   76.211|  157.45|\n",
      "|   36|Australia|1970|   1970.5|    33|         33|         1| 79.216|   74.454|  153.67|\n",
      "|   36|Australia|1970|   1970.5|    34|         34|         1| 77.248|   72.675| 149.923|\n",
      "|   36|Australia|1970|   1970.5|    35|         35|         1| 75.568|    71.23| 146.798|\n",
      "|   36|Australia|1970|   1970.5|    36|         36|         1| 73.886|   69.864|  143.75|\n",
      "|   36|Australia|1970|   1970.5|    37|         37|         1| 73.504|   69.541| 143.045|\n",
      "|   36|Australia|1970|   1970.5|    38|         38|         1| 75.015|   70.719| 145.734|\n",
      "|   36|Australia|1970|   1970.5|    39|         39|         1| 77.685|   72.837| 150.522|\n",
      "|   36|Australia|1970|   1970.5|    40|         40|         1| 80.182|   74.839| 155.021|\n",
      "|   36|Australia|1970|   1970.5|    41|         41|         1| 82.768|   76.896| 159.664|\n",
      "|   36|Australia|1970|   1970.5|    42|         42|         1|   84.5|   78.458| 162.958|\n",
      "|   36|Australia|1970|   1970.5|    43|         43|         1| 84.772|   79.131| 163.903|\n",
      "|   36|Australia|1970|   1970.5|    44|         44|         1| 83.983|    79.12| 163.103|\n",
      "|   36|Australia|1970|   1970.5|    45|         45|         1| 83.316|   79.179| 162.495|\n",
      "|   36|Australia|1970|   1970.5|    46|         46|         1| 82.748|   79.343| 162.091|\n",
      "|   36|Australia|1970|   1970.5|    47|         47|         1| 81.175|   78.508| 159.683|\n",
      "|   36|Australia|1970|   1970.5|    48|         48|         1| 78.236|   76.259| 154.495|\n",
      "|   36|Australia|1970|   1970.5|    49|         49|         1| 74.466|   73.133| 147.599|\n",
      "|   36|Australia|1970|   1970.5|    50|         50|         1| 70.618|   69.971| 140.589|\n",
      "|   36|Australia|1970|   1970.5|    51|         51|         1| 66.365|   66.476| 132.841|\n",
      "|   36|Australia|1970|   1970.5|    52|         52|         1| 63.326|   63.924|  127.25|\n",
      "|   36|Australia|1970|   1970.5|    53|         53|         1| 62.328|   62.994| 125.322|\n",
      "|   36|Australia|1970|   1970.5|    54|         54|         1| 62.574|   63.055| 125.629|\n",
      "|   36|Australia|1970|   1970.5|    55|         55|         1| 62.511|   62.831| 125.342|\n",
      "|   36|Australia|1970|   1970.5|    56|         56|         1| 62.535|   62.619| 125.154|\n",
      "|   36|Australia|1970|   1970.5|    57|         57|         1| 61.738|   61.869| 123.607|\n",
      "|   36|Australia|1970|   1970.5|    58|         58|         1| 59.542|   60.193| 119.735|\n",
      "|   36|Australia|1970|   1970.5|    59|         59|         1| 56.449|   57.908| 114.357|\n",
      "|   36|Australia|1970|   1970.5|    60|         60|         1| 53.531|   55.761| 109.292|\n",
      "|   36|Australia|1970|   1970.5|    61|         61|         1| 50.563|    53.66| 104.223|\n",
      "|   36|Australia|1970|   1970.5|    62|         62|         1| 47.792|   51.436|  99.228|\n",
      "|   36|Australia|1970|   1970.5|    63|         63|         1| 45.445|   49.098|  94.543|\n",
      "|   36|Australia|1970|   1970.5|    64|         64|         1| 43.355|   46.717|  90.072|\n",
      "|   36|Australia|1970|   1970.5|    65|         65|         1| 41.155|   44.299|  85.454|\n",
      "|   36|Australia|1970|   1970.5|    66|         66|         1| 38.953|   41.777|   80.73|\n",
      "|   36|Australia|1970|   1970.5|    67|         67|         1| 36.628|    39.69|  76.318|\n",
      "|   36|Australia|1970|   1970.5|    68|         68|         1| 34.094|   38.289|  72.383|\n",
      "|   36|Australia|1970|   1970.5|    69|         69|         1| 31.455|   37.315|   68.77|\n",
      "|   36|Australia|1970|   1970.5|    70|         70|         1| 28.897|   36.272|  65.169|\n",
      "|   36|Australia|1970|   1970.5|    71|         71|         1| 26.373|   35.274|  61.647|\n",
      "|   36|Australia|1970|   1970.5|    72|         72|         1|  24.05|   34.036|  58.086|\n",
      "|   36|Australia|1970|   1970.5|    73|         73|         1| 22.023|   32.371|  54.394|\n",
      "|   36|Australia|1970|   1970.5|    74|         74|         1| 20.218|   30.423|  50.641|\n",
      "|   36|Australia|1970|   1970.5|    75|         75|         1| 18.454|   28.547|  47.001|\n",
      "|   36|Australia|1970|   1970.5|    76|         76|         1| 16.759|   26.705|  43.464|\n",
      "|   36|Australia|1970|   1970.5|    77|         77|         1| 15.165|   24.763|  39.928|\n",
      "|   36|Australia|1970|   1970.5|    78|         78|         1| 13.668|     22.7|  36.368|\n",
      "|   36|Australia|1970|   1970.5|    79|         79|         1| 12.258|   20.575|  32.833|\n",
      "|   36|Australia|1970|   1970.5|    80|         80|         1| 10.944|   18.471|  29.415|\n",
      "|   36|Australia|1970|   1970.5|    81|         81|         1|  9.738|   16.379|  26.117|\n",
      "|   36|Australia|1970|   1970.5|    82|         82|         1|  8.539|   14.413|  22.952|\n",
      "|   36|Australia|1970|   1970.5|    83|         83|         1|  7.304|   12.641|  19.945|\n",
      "|   36|Australia|1970|   1970.5|    84|         84|         1|  6.081|   11.026|  17.107|\n",
      "|   36|Australia|1970|   1970.5|    85|         85|         1|  4.955|    9.468|  14.423|\n",
      "|   36|Australia|1970|   1970.5|    86|         86|         1|  3.899|    7.989|  11.888|\n",
      "|   36|Australia|1970|   1970.5|    87|         87|         1|  3.008|    6.637|   9.645|\n",
      "|   36|Australia|1970|   1970.5|    88|         88|         1|  2.335|    5.428|   7.763|\n",
      "|   36|Australia|1970|   1970.5|    89|         89|         1|  1.829|    4.354|   6.183|\n",
      "|   36|Australia|1970|   1970.5|    90|         90|         1|  1.306|    3.227|   4.533|\n",
      "|   36|Australia|1970|   1970.5|    91|         91|         1|  0.938|     2.38|   3.318|\n",
      "|   36|Australia|1970|   1970.5|    92|         92|         1|  0.752|    1.943|   2.695|\n",
      "|   36|Australia|1970|   1970.5|    93|         93|         1|  0.541|    1.432|   1.973|\n",
      "|   36|Australia|1970|   1970.5|    94|         94|         1|  0.307|    0.845|   1.152|\n",
      "|   36|Australia|1970|   1970.5|    95|         95|         1|  0.177|    0.514|   0.691|\n",
      "|   36|Australia|1970|   1970.5|    96|         96|         1|  0.146|    0.427|   0.573|\n",
      "|   36|Australia|1970|   1970.5|    97|         97|         1|  0.112|    0.332|   0.444|\n",
      "|   36|Australia|1970|   1970.5|    98|         98|         1|  0.076|    0.227|   0.303|\n",
      "|   36|Australia|1970|   1970.5|    99|         99|         1|  0.036|    0.112|   0.148|\n",
      "|   36|Australia|1970|   1970.5|   100|        100|        -1|  0.042|    0.142|   0.184|\n",
      "+-----+---------+----+---------+------+-----------+----------+-------+---------+--------+\n",
      "\n"
     ]
    }
   ],
   "source": [
    "df.filter((df.Location == 'Australia') & (df.Time == 1970)).show(101)"
   ]
  },
  {
   "cell_type": "markdown",
   "metadata": {
    "id": "utx53EQwjUSY"
   },
   "source": [
    "What was the population of 45-year-old females in India in 1960?"
   ]
  },
  {
   "cell_type": "code",
   "execution_count": 32,
   "metadata": {
    "colab": {
     "base_uri": "https://localhost:8080/"
    },
    "id": "zwxYNG2qjpft",
    "outputId": "05c2397e-1a92-49b2-df69-d10364a8b24c"
   },
   "outputs": [
    {
     "name": "stdout",
     "output_type": "stream",
     "text": [
      "+---------+\n",
      "|PopFemale|\n",
      "+---------+\n",
      "| 1987.196|\n",
      "+---------+\n",
      "\n"
     ]
    }
   ],
   "source": [
    "df.filter((df.AgeGrp == 45)\\\n",
    "          & (df.Location == 'India')\\\n",
    "          & (df.Time == 1960))\\\n",
    "          .select('PopFemale')\\\n",
    "          .show()"
   ]
  },
  {
   "cell_type": "markdown",
   "metadata": {
    "id": "13IpzCh23AdD"
   },
   "source": [
    "Using filter query to show the distinct locations starting with 'UN'."
   ]
  },
  {
   "cell_type": "code",
   "execution_count": 33,
   "metadata": {
    "colab": {
     "base_uri": "https://localhost:8080/"
    },
    "id": "dmgSw_z7s_-S",
    "outputId": "16156333-61da-43ff-d4ca-ff3a653e0a1c"
   },
   "outputs": [
    {
     "name": "stdout",
     "output_type": "stream",
     "text": [
      "+---------------------------------------------------------------+\n",
      "|Location                                                       |\n",
      "+---------------------------------------------------------------+\n",
      "|UN-ECE: member countries                                       |\n",
      "|UNFPA Regions                                                  |\n",
      "|UNICEF Regions: South Asia                                     |\n",
      "|UNFPA: East and Southern Africa (ESA)                          |\n",
      "|UNFPA: West and Central Africa (WCA)                           |\n",
      "|UNICEF Programme Regions: East Asia and Pacific (EAPRO)        |\n",
      "|UNICEF Programme Regions: Latin America and Caribbean (LACRO)  |\n",
      "|UNICEF Programme Regions: South Asia (ROSA)                    |\n",
      "|UNICEF Regions: Eastern Europe and Central Asia                |\n",
      "|UNITED NATIONS Regional Groups of Member States                |\n",
      "|UNICEF Regions: Western Europe                                 |\n",
      "|UNFPA: Asia and the Pacific (AP)                               |\n",
      "|UNICEF Regions: Europe and Central Asia                        |\n",
      "|UNFPA: Arab States (AS)                                        |\n",
      "|UNICEF Regions: East Asia and Pacific                          |\n",
      "|UNICEF Programme Regions: Latin America                        |\n",
      "|UNICEF Regions: Eastern and Southern Africa                    |\n",
      "|UNICEF REGIONS                                                 |\n",
      "|UNICEF Regions: Sub-Saharan Africa                             |\n",
      "|UNFPA: Latin America and the Caribbean (LAC)                   |\n",
      "|UNICEF Programme Regions: Middle East and North Africa (MENARO)|\n",
      "|UNICEF Regions: West and Central Africa                        |\n",
      "|UNICEF Regions: North America                                  |\n",
      "|UNICEF Programme Regions: West and Central Africa (WCARO)      |\n",
      "|UNICEF PROGRAMME REGIONS                                       |\n",
      "|UNICEF Programme Regions: Eastern and Southern Africa (ESARO)  |\n",
      "|UNICEF Programme Regions: Eastern Caribbean                    |\n",
      "|UNICEF Programme Regions: Europe and Central Asia (CEECIS)     |\n",
      "|UNFPA: Eastern Europe and Central Asia (EECA)                  |\n",
      "|UNICEF Regions: Middle East and North Africa                   |\n",
      "|UNICEF Regions: Latin America and Caribbean                    |\n",
      "+---------------------------------------------------------------+\n",
      "\n"
     ]
    }
   ],
   "source": [
    "df.filter(df.Location.startswith('UN'))\\\n",
    "  .select('Location')\\\n",
    "  .distinct()\\\n",
    "  .show(40, truncate=False)"
   ]
  },
  {
   "cell_type": "markdown",
   "metadata": {
    "id": "Ucwk6vQ0qu63"
   },
   "source": [
    "What is the population of each location in 1950 and 2019?"
   ]
  },
  {
   "cell_type": "code",
   "execution_count": 34,
   "metadata": {
    "colab": {
     "base_uri": "https://localhost:8080/"
    },
    "id": "C_L9r2lLq1ix",
    "outputId": "6b61642c-fa29-405a-b731-c99eebff4c25"
   },
   "outputs": [
    {
     "name": "stdout",
     "output_type": "stream",
     "text": [
      "+--------------------+---------------+\n",
      "|            Location|Population_1950|\n",
      "+--------------------+---------------+\n",
      "|               World|    2536431.017|\n",
      "|      UNICEF REGIONS|    2536431.017|\n",
      "|UNITED NATIONS Re...|    2535484.559|\n",
      "|United Nations Me...|    2535484.422|\n",
      "|         WHO Regions|    2522040.325|\n",
      "|Countries with Ac...|    2384540.117|\n",
      "|World Bank Region...|    1840638.352|\n",
      "|UNICEF PROGRAMME ...|    1772861.502|\n",
      "|       UNFPA Regions|    1742400.273|\n",
      "|Group of Twenty (...|    1731945.275|\n",
      "|Less developed re...|    1721612.096|\n",
      "|Middle-income cou...|      1703596.5|\n",
      "|   Group of 77 (G77)|    1618241.347|\n",
      "|Less developed re...|    1526184.327|\n",
      "|ESCAP: income groups|    1490837.911|\n",
      "|   ESCAP: HDI groups|    1490837.911|\n",
      "|United Nations Ec...|    1490837.911|\n",
      "|ESCAP: WB income ...|    1490818.181|\n",
      "|                Asia|    1404908.989|\n",
      "|  Asia-Pacific Group|    1397562.214|\n",
      "+--------------------+---------------+\n",
      "only showing top 20 rows\n",
      "\n"
     ]
    }
   ],
   "source": [
    "populations_in_1950 = df.filter(df.Time == 1950)\\\n",
    "                    .groupBy('Location')\\\n",
    "                    .sum('PopTotal')\\\n",
    "                    .withColumnRenamed('sum(PopTotal)', 'Population_1950')\\\n",
    "                    .withColumn('Population_1950', round('Population_1950', 3))\\\n",
    "                    .orderBy(col('Population_1950').desc())\n",
    "populations_in_1950.show()"
   ]
  },
  {
   "cell_type": "code",
   "execution_count": 35,
   "metadata": {
    "id": "DT125gNwiBn-"
   },
   "outputs": [],
   "source": [
    "populations_in_2019 = df.filter(df.Time == 2019)\\\n",
    "                    .groupBy('Location')\\\n",
    "                    .sum('PopTotal')\\\n",
    "                    .withColumnRenamed('sum(PopTotal)', 'Population_2019')\\\n",
    "                    .withColumn('Population_2019', round('Population_2019', 3))\\\n",
    "                    .orderBy(col('Population_2019').desc())"
   ]
  },
  {
   "cell_type": "code",
   "execution_count": 36,
   "metadata": {
    "colab": {
     "base_uri": "https://localhost:8080/"
    },
    "id": "TGQ3PPvDiWu3",
    "outputId": "efe5fd15-7de9-4d58-def8-39a17ea117f4"
   },
   "outputs": [
    {
     "name": "stdout",
     "output_type": "stream",
     "text": [
      "+--------------------+---------------+---------------+\n",
      "|            Location|Population_1950|Population_2019|\n",
      "+--------------------+---------------+---------------+\n",
      "|         Afghanistan|       7752.117|      38041.757|\n",
      "|              Africa|     227794.137|    1308064.174|\n",
      "|       African Group|     227511.873|    1306320.571|\n",
      "|       African Union|     227525.637|    1306903.022|\n",
      "|African Union: Ce...|      24214.661|     154013.705|\n",
      "|African Union: Ea...|      55336.034|     382531.218|\n",
      "|African Union: No...|      43705.252|     203493.227|\n",
      "|African Union: So...|      34051.198|     179956.492|\n",
      "|African Union: We...|       70218.49|     386908.388|\n",
      "|African, Caribbea...|     199979.667|    1150190.577|\n",
      "|             Albania|       1263.164|       2880.913|\n",
      "|             Algeria|        8872.25|      43053.054|\n",
      "|    Andean Community|      26311.024|     111736.664|\n",
      "|              Angola|       4548.021|      31825.299|\n",
      "| Antigua and Barbuda|         45.515|         97.115|\n",
      "|           Argentina|       17037.91|      44780.675|\n",
      "|             Armenia|       1353.502|       2957.728|\n",
      "|               Aruba|         38.052|         106.31|\n",
      "|                Asia|    1404908.989|    4601371.264|\n",
      "|Asia-Pacific Econ...|    1136577.758|    2956245.284|\n",
      "+--------------------+---------------+---------------+\n",
      "only showing top 20 rows\n",
      "\n"
     ]
    }
   ],
   "source": [
    "populations_in_1950.join(populations_in_2019, 'Location').orderBy('Location').show()"
   ]
  },
  {
   "cell_type": "markdown",
   "metadata": {
    "id": "XUmwRcHuXxVo"
   },
   "source": [
    "Which locations had the largest percentage change in population from 1950 to 2019?"
   ]
  },
  {
   "cell_type": "code",
   "execution_count": 37,
   "metadata": {
    "colab": {
     "base_uri": "https://localhost:8080/"
    },
    "id": "gZWfatPCl4vu",
    "outputId": "c34ef266-6f8a-4216-b8e4-fc53a9c6481c"
   },
   "outputs": [
    {
     "name": "stdout",
     "output_type": "stream",
     "text": [
      "+-----------------------------------------+---------------+---------------+-----------------+\n",
      "|Location                                 |Population_1950|Population_2019|Percentage_change|\n",
      "+-----------------------------------------+---------------+---------------+-----------------+\n",
      "|United Arab Emirates                     |69.594         |9770.526       |14039.32         |\n",
      "|Qatar                                    |25.006         |2832.071       |11325.57         |\n",
      "|Western Sahara                           |13.763         |582.458        |4232.06          |\n",
      "|Kuwait                                   |153.103        |4207.077       |2747.87          |\n",
      "|Jordan                                   |481.319        |10101.697      |2098.75          |\n",
      "|Mayotte                                  |15.138         |266.153        |1758.18          |\n",
      "|Djibouti                                 |62.0           |973.557        |1570.25          |\n",
      "|ESCWA: Gulf Cooperation Council countries|3941.065       |57694.359      |1463.93          |\n",
      "|Gulf Cooperation Council (GCC)           |3941.065       |57694.359      |1463.93          |\n",
      "|Bahrain                                  |115.612        |1641.164       |1419.54          |\n",
      "|French Guiana                            |25.484         |290.823        |1141.2           |\n",
      "|Saudi Arabia                             |3121.34        |34268.529      |1097.88          |\n",
      "|Oman                                     |456.41         |4974.992       |1090.03          |\n",
      "|Côte d'Ivoire                            |2630.131       |25716.554      |977.77           |\n",
      "|Niger                                    |2559.706       |23310.719      |910.68           |\n",
      "|Brunei Darussalam                        |48.009         |433.296        |902.53           |\n",
      "|Kenya                                    |6076.757       |52573.968      |865.16           |\n",
      "|Uganda                                   |5158.191       |44269.587      |858.24           |\n",
      "|Zambia                                   |2310.436       |17861.034      |773.06           |\n",
      "|Gambia                                   |304.895        |2347.696       |770.0            |\n",
      "+-----------------------------------------+---------------+---------------+-----------------+\n",
      "only showing top 20 rows\n",
      "\n"
     ]
    }
   ],
   "source": [
    "populations_in_1950\\\n",
    "  .join(populations_in_2019, 'Location')\\\n",
    "  .orderBy('Location')\\\n",
    "  .withColumn('Percentage_change',\n",
    "              round(100*populations_in_2019.Population_2019\\\n",
    "              /populations_in_1950.Population_1950, 2))\\\n",
    "  .orderBy(col('Percentage_change').desc())\\\n",
    "  .show(truncate=False)"
   ]
  },
  {
   "cell_type": "markdown",
   "metadata": {
    "id": "Amz7aJ8TpWju"
   },
   "source": [
    "In 2019 which locations have the highest percentage of seniors (age 80+) relative to their total population?"
   ]
  },
  {
   "cell_type": "code",
   "execution_count": 38,
   "metadata": {
    "colab": {
     "base_uri": "https://localhost:8080/"
    },
    "id": "j9aqlueYo2x1",
    "outputId": "4bd88768-0b61-45ae-cbc0-6d5b4891bf36"
   },
   "outputs": [
    {
     "name": "stdout",
     "output_type": "stream",
     "text": [
      "+------------------------------+---------------+----------------------+---------------------+\n",
      "|Location                      |Population_2019|Senior_Population_2019|Percentage_of_Seniors|\n",
      "+------------------------------+---------------+----------------------+---------------------+\n",
      "|Japan                         |126860.298     |11018.236             |8.69                 |\n",
      "|More developed: Asia          |126860.298     |11018.236             |8.69                 |\n",
      "|Greece                        |10473.452      |779.928               |7.45                 |\n",
      "|Italy                         |60550.092      |4465.708              |7.38                 |\n",
      "|Germany                       |83517.046      |5737.398              |6.87                 |\n",
      "|Portugal                      |10226.178      |671.048               |6.56                 |\n",
      "|ESCAP: high HDI               |222610.632     |14503.09              |6.52                 |\n",
      "|ESCAP: high income            |222836.176     |14507.027             |6.51                 |\n",
      "|ESCAP: WB High income econ.   |223183.437     |14511.447             |6.5                  |\n",
      "|Southern Europe               |152446.951     |9822.408              |6.44                 |\n",
      "|European Community (EC: 12)   |384069.995     |23913.421             |6.23                 |\n",
      "|Western Europe                |195522.413     |12189.503             |6.23                 |\n",
      "|Spain                         |46736.782      |2901.252              |6.21                 |\n",
      "|Lithuania                     |2759.631       |170.583               |6.18                 |\n",
      "|France                        |65129.731      |4018.291              |6.17                 |\n",
      "|European Union (EU: 15)       |408593.657     |25218.314             |6.17                 |\n",
      "|Martinique                    |375.557        |23.081                |6.15                 |\n",
      "|France (and dependencies)     |67978.398      |4099.896              |6.03                 |\n",
      "|UNICEF Regions: Western Europe|496859.259     |29244.549             |5.89                 |\n",
      "|European Union (EU: 28)       |512516.93      |30030.249             |5.86                 |\n",
      "+------------------------------+---------------+----------------------+---------------------+\n",
      "only showing top 20 rows\n",
      "\n"
     ]
    }
   ],
   "source": [
    "seniors_2019 = df.filter((df.Time == 2019) & (df.AgeGrp >= 80))\\\n",
    "                  .groupBy('Location')\\\n",
    "                  .sum('PopTotal')\\\n",
    "                  .withColumnRenamed('sum(PopTotal)', 'Senior_Population_2019')\\\n",
    "                  .withColumn('Senior_Population_2019',\\\n",
    "                              round('Senior_Population_2019', 3))\\\n",
    "                  .orderBy(col('Senior_Population_2019').desc())\n",
    "\n",
    "populations_in_2019\\\n",
    "  .join(seniors_2019, 'Location')\\\n",
    "  .withColumn('Percentage_of_Seniors',\n",
    "              round(100*seniors_2019.Senior_Population_2019\\\n",
    "              / populations_in_2019.Population_2019, 2))\\\n",
    "  .orderBy(col('Percentage_of_Seniors').desc())\\\n",
    "  .show(truncate=False)"
   ]
  },
  {
   "cell_type": "markdown",
   "metadata": {
    "id": "JF2elDeHXRpY"
   },
   "source": [
    "## Population line plot\n",
    "\n",
    "Data visualisation with matplotlib. Population vs year for three countries plots."
   ]
  },
  {
   "cell_type": "code",
   "execution_count": 39,
   "metadata": {
    "colab": {
     "base_uri": "https://localhost:8080/"
    },
    "id": "on49bDYynXuS",
    "outputId": "ffd9cef9-9892-49cd-b369-3f27efafd76c"
   },
   "outputs": [
    {
     "name": "stdout",
     "output_type": "stream",
     "text": [
      "+---------+---------+----------+\n",
      "| Location|MidPeriod|Population|\n",
      "+---------+---------+----------+\n",
      "|Australia|   1970.5|  12793.03|\n",
      "|Australia|   2001.5| 19194.676|\n",
      "|Australia|   2013.5| 23254.912|\n",
      "|Australia|   2007.5| 20916.339|\n",
      "|Australia|   2014.5| 23596.426|\n",
      "|Australia|   1971.5|  13033.13|\n",
      "|Australia|   1974.5| 13605.574|\n",
      "|Australia|   1991.5| 17189.235|\n",
      "|Australia|   1968.5| 12215.704|\n",
      "|Australia|   2009.5| 21750.852|\n",
      "|Australia|   2011.5| 22538.002|\n",
      "|Australia|   1958.5|  9808.595|\n",
      "|Australia|   1990.5|   16960.6|\n",
      "|Australia|   1962.5|  10643.42|\n",
      "|Australia|   2008.5| 21332.293|\n",
      "|Australia|   1955.5|    9165.7|\n",
      "|Australia|   2003.5| 19624.163|\n",
      "|Australia|   1969.5| 12518.931|\n",
      "|Australia|   1996.5| 18189.274|\n",
      "|Australia|   2005.5| 20178.543|\n",
      "+---------+---------+----------+\n",
      "only showing top 20 rows\n",
      "\n"
     ]
    }
   ],
   "source": [
    "df_3countries = df[df.Location.isin(\"Australia\", \"New Zealand\", \"Singapore\")]\\\n",
    "                  .select('Location', 'MidPeriod', 'PopTotal') \\\n",
    "                  .groupBy('Location', 'MidPeriod')\\\n",
    "                  .sum('PopTotal')\\\n",
    "                  .withColumnRenamed('sum(PopTotal)', 'Population')\\\n",
    "                  .withColumn('Population', round('Population', 3))\n",
    "df_3countries.show()"
   ]
  },
  {
   "cell_type": "code",
   "execution_count": 40,
   "metadata": {
    "id": "94YAOx4DggYX"
   },
   "outputs": [],
   "source": [
    "dataforplotting = df_3countries.toPandas()"
   ]
  },
  {
   "cell_type": "markdown",
   "metadata": {
    "id": "HizTgSBkYP80"
   },
   "source": [
    "This dataset is a manageable size, converting it to a Pandas dataframe for plotting."
   ]
  },
  {
   "cell_type": "code",
   "execution_count": 41,
   "metadata": {
    "colab": {
     "base_uri": "https://localhost:8080/"
    },
    "id": "MTcUn1rWZw3H",
    "outputId": "4f0fa2ad-4a00-4744-95f1-dc579373c40a"
   },
   "outputs": [
    {
     "name": "stdout",
     "output_type": "stream",
     "text": [
      "<class 'pandas.core.frame.DataFrame'>\n",
      "RangeIndex: 210 entries, 0 to 209\n",
      "Data columns (total 3 columns):\n",
      " #   Column      Non-Null Count  Dtype  \n",
      "---  ------      --------------  -----  \n",
      " 0   Location    210 non-null    object \n",
      " 1   MidPeriod   210 non-null    float32\n",
      " 2   Population  210 non-null    float64\n",
      "dtypes: float32(1), float64(1), object(1)\n",
      "memory usage: 4.2+ KB\n"
     ]
    }
   ],
   "source": [
    "dataforplotting.info()"
   ]
  },
  {
   "cell_type": "code",
   "execution_count": 42,
   "metadata": {
    "colab": {
     "base_uri": "https://localhost:8080/",
     "height": 455
    },
    "id": "QkkQaikca5ic",
    "outputId": "b1fbe26a-f68e-4fb9-aa9c-41def2f144dc"
   },
   "outputs": [
    {
     "data": {
      "application/vnd.google.colaboratory.intrinsic+json": {
       "summary": "{\n  \"name\": \"dataforplotting\",\n  \"rows\": 70,\n  \"fields\": [\n    {\n      \"column\": \"MidPeriod\",\n      \"properties\": {\n        \"dtype\": \"float32\",\n        \"num_unique_values\": 70,\n        \"samples\": [\n          1972.5,\n          1950.5,\n          1999.5\n        ],\n        \"semantic_type\": \"\",\n        \"description\": \"\"\n      }\n    },\n    {\n      \"column\": \"Australia\",\n      \"properties\": {\n        \"dtype\": \"number\",\n        \"std\": 4817.913146792335,\n        \"min\": 8177.348,\n        \"max\": 25203.2,\n        \"num_unique_values\": 70,\n        \"samples\": [\n          13244.163,\n          8177.348,\n          18788.187\n        ],\n        \"semantic_type\": \"\",\n        \"description\": \"\"\n      }\n    },\n    {\n      \"column\": \"New Zealand\",\n      \"properties\": {\n        \"dtype\": \"number\",\n        \"std\": 807.203149872858,\n        \"min\": 1908.011,\n        \"max\": 4783.062,\n        \"num_unique_values\": 70,\n        \"samples\": [\n          2929.687,\n          1908.011,\n          3818.128\n        ],\n        \"semantic_type\": \"\",\n        \"description\": \"\"\n      }\n    },\n    {\n      \"column\": \"Singapore\",\n      \"properties\": {\n        \"dtype\": \"number\",\n        \"std\": 1409.2732729437994,\n        \"min\": 1022.095,\n        \"max\": 5804.343,\n        \"num_unique_values\": 70,\n        \"samples\": [\n          2150.498,\n          1022.095,\n          3954.741\n        ],\n        \"semantic_type\": \"\",\n        \"description\": \"\"\n      }\n    }\n  ]\n}",
       "type": "dataframe"
      },
      "text/html": [
       "\n",
       "  <div id=\"df-faa42f73-8a21-4f5d-b147-9e4f44b4e9b2\" class=\"colab-df-container\">\n",
       "    <div>\n",
       "<style scoped>\n",
       "    .dataframe tbody tr th:only-of-type {\n",
       "        vertical-align: middle;\n",
       "    }\n",
       "\n",
       "    .dataframe tbody tr th {\n",
       "        vertical-align: top;\n",
       "    }\n",
       "\n",
       "    .dataframe thead th {\n",
       "        text-align: right;\n",
       "    }\n",
       "</style>\n",
       "<table border=\"1\" class=\"dataframe\">\n",
       "  <thead>\n",
       "    <tr style=\"text-align: right;\">\n",
       "      <th>Location</th>\n",
       "      <th>Australia</th>\n",
       "      <th>New Zealand</th>\n",
       "      <th>Singapore</th>\n",
       "    </tr>\n",
       "    <tr>\n",
       "      <th>MidPeriod</th>\n",
       "      <th></th>\n",
       "      <th></th>\n",
       "      <th></th>\n",
       "    </tr>\n",
       "  </thead>\n",
       "  <tbody>\n",
       "    <tr>\n",
       "      <th>1950.5</th>\n",
       "      <td>8177.348</td>\n",
       "      <td>1908.011</td>\n",
       "      <td>1022.095</td>\n",
       "    </tr>\n",
       "    <tr>\n",
       "      <th>1951.5</th>\n",
       "      <td>8398.224</td>\n",
       "      <td>1947.929</td>\n",
       "      <td>1067.797</td>\n",
       "    </tr>\n",
       "    <tr>\n",
       "      <th>1952.5</th>\n",
       "      <td>8595.064</td>\n",
       "      <td>1992.809</td>\n",
       "      <td>1119.932</td>\n",
       "    </tr>\n",
       "    <tr>\n",
       "      <th>1953.5</th>\n",
       "      <td>8782.177</td>\n",
       "      <td>2040.237</td>\n",
       "      <td>1177.580</td>\n",
       "    </tr>\n",
       "    <tr>\n",
       "      <th>1954.5</th>\n",
       "      <td>8970.121</td>\n",
       "      <td>2088.488</td>\n",
       "      <td>1239.692</td>\n",
       "    </tr>\n",
       "    <tr>\n",
       "      <th>...</th>\n",
       "      <td>...</td>\n",
       "      <td>...</td>\n",
       "      <td>...</td>\n",
       "    </tr>\n",
       "    <tr>\n",
       "      <th>2015.5</th>\n",
       "      <td>23932.499</td>\n",
       "      <td>4614.527</td>\n",
       "      <td>5592.143</td>\n",
       "    </tr>\n",
       "    <tr>\n",
       "      <th>2016.5</th>\n",
       "      <td>24262.710</td>\n",
       "      <td>4659.265</td>\n",
       "      <td>5653.625</td>\n",
       "    </tr>\n",
       "    <tr>\n",
       "      <th>2017.5</th>\n",
       "      <td>24584.619</td>\n",
       "      <td>4702.029</td>\n",
       "      <td>5708.042</td>\n",
       "    </tr>\n",
       "    <tr>\n",
       "      <th>2018.5</th>\n",
       "      <td>24898.153</td>\n",
       "      <td>4743.131</td>\n",
       "      <td>5757.503</td>\n",
       "    </tr>\n",
       "    <tr>\n",
       "      <th>2019.5</th>\n",
       "      <td>25203.200</td>\n",
       "      <td>4783.062</td>\n",
       "      <td>5804.343</td>\n",
       "    </tr>\n",
       "  </tbody>\n",
       "</table>\n",
       "<p>70 rows × 3 columns</p>\n",
       "</div>\n",
       "    <div class=\"colab-df-buttons\">\n",
       "\n",
       "  <div class=\"colab-df-container\">\n",
       "    <button class=\"colab-df-convert\" onclick=\"convertToInteractive('df-faa42f73-8a21-4f5d-b147-9e4f44b4e9b2')\"\n",
       "            title=\"Convert this dataframe to an interactive table.\"\n",
       "            style=\"display:none;\">\n",
       "\n",
       "  <svg xmlns=\"http://www.w3.org/2000/svg\" height=\"24px\" viewBox=\"0 -960 960 960\">\n",
       "    <path d=\"M120-120v-720h720v720H120Zm60-500h600v-160H180v160Zm220 220h160v-160H400v160Zm0 220h160v-160H400v160ZM180-400h160v-160H180v160Zm440 0h160v-160H620v160ZM180-180h160v-160H180v160Zm440 0h160v-160H620v160Z\"/>\n",
       "  </svg>\n",
       "    </button>\n",
       "\n",
       "  <style>\n",
       "    .colab-df-container {\n",
       "      display:flex;\n",
       "      gap: 12px;\n",
       "    }\n",
       "\n",
       "    .colab-df-convert {\n",
       "      background-color: #E8F0FE;\n",
       "      border: none;\n",
       "      border-radius: 50%;\n",
       "      cursor: pointer;\n",
       "      display: none;\n",
       "      fill: #1967D2;\n",
       "      height: 32px;\n",
       "      padding: 0 0 0 0;\n",
       "      width: 32px;\n",
       "    }\n",
       "\n",
       "    .colab-df-convert:hover {\n",
       "      background-color: #E2EBFA;\n",
       "      box-shadow: 0px 1px 2px rgba(60, 64, 67, 0.3), 0px 1px 3px 1px rgba(60, 64, 67, 0.15);\n",
       "      fill: #174EA6;\n",
       "    }\n",
       "\n",
       "    .colab-df-buttons div {\n",
       "      margin-bottom: 4px;\n",
       "    }\n",
       "\n",
       "    [theme=dark] .colab-df-convert {\n",
       "      background-color: #3B4455;\n",
       "      fill: #D2E3FC;\n",
       "    }\n",
       "\n",
       "    [theme=dark] .colab-df-convert:hover {\n",
       "      background-color: #434B5C;\n",
       "      box-shadow: 0px 1px 3px 1px rgba(0, 0, 0, 0.15);\n",
       "      filter: drop-shadow(0px 1px 2px rgba(0, 0, 0, 0.3));\n",
       "      fill: #FFFFFF;\n",
       "    }\n",
       "  </style>\n",
       "\n",
       "    <script>\n",
       "      const buttonEl =\n",
       "        document.querySelector('#df-faa42f73-8a21-4f5d-b147-9e4f44b4e9b2 button.colab-df-convert');\n",
       "      buttonEl.style.display =\n",
       "        google.colab.kernel.accessAllowed ? 'block' : 'none';\n",
       "\n",
       "      async function convertToInteractive(key) {\n",
       "        const element = document.querySelector('#df-faa42f73-8a21-4f5d-b147-9e4f44b4e9b2');\n",
       "        const dataTable =\n",
       "          await google.colab.kernel.invokeFunction('convertToInteractive',\n",
       "                                                    [key], {});\n",
       "        if (!dataTable) return;\n",
       "\n",
       "        const docLinkHtml = 'Like what you see? Visit the ' +\n",
       "          '<a target=\"_blank\" href=https://colab.research.google.com/notebooks/data_table.ipynb>data table notebook</a>'\n",
       "          + ' to learn more about interactive tables.';\n",
       "        element.innerHTML = '';\n",
       "        dataTable['output_type'] = 'display_data';\n",
       "        await google.colab.output.renderOutput(dataTable, element);\n",
       "        const docLink = document.createElement('div');\n",
       "        docLink.innerHTML = docLinkHtml;\n",
       "        element.appendChild(docLink);\n",
       "      }\n",
       "    </script>\n",
       "  </div>\n",
       "\n",
       "\n",
       "<div id=\"df-1f3c6aa8-a973-4503-881a-6cd4e627df88\">\n",
       "  <button class=\"colab-df-quickchart\" onclick=\"quickchart('df-1f3c6aa8-a973-4503-881a-6cd4e627df88')\"\n",
       "            title=\"Suggest charts\"\n",
       "            style=\"display:none;\">\n",
       "\n",
       "<svg xmlns=\"http://www.w3.org/2000/svg\" height=\"24px\"viewBox=\"0 0 24 24\"\n",
       "     width=\"24px\">\n",
       "    <g>\n",
       "        <path d=\"M19 3H5c-1.1 0-2 .9-2 2v14c0 1.1.9 2 2 2h14c1.1 0 2-.9 2-2V5c0-1.1-.9-2-2-2zM9 17H7v-7h2v7zm4 0h-2V7h2v10zm4 0h-2v-4h2v4z\"/>\n",
       "    </g>\n",
       "</svg>\n",
       "  </button>\n",
       "\n",
       "<style>\n",
       "  .colab-df-quickchart {\n",
       "      --bg-color: #E8F0FE;\n",
       "      --fill-color: #1967D2;\n",
       "      --hover-bg-color: #E2EBFA;\n",
       "      --hover-fill-color: #174EA6;\n",
       "      --disabled-fill-color: #AAA;\n",
       "      --disabled-bg-color: #DDD;\n",
       "  }\n",
       "\n",
       "  [theme=dark] .colab-df-quickchart {\n",
       "      --bg-color: #3B4455;\n",
       "      --fill-color: #D2E3FC;\n",
       "      --hover-bg-color: #434B5C;\n",
       "      --hover-fill-color: #FFFFFF;\n",
       "      --disabled-bg-color: #3B4455;\n",
       "      --disabled-fill-color: #666;\n",
       "  }\n",
       "\n",
       "  .colab-df-quickchart {\n",
       "    background-color: var(--bg-color);\n",
       "    border: none;\n",
       "    border-radius: 50%;\n",
       "    cursor: pointer;\n",
       "    display: none;\n",
       "    fill: var(--fill-color);\n",
       "    height: 32px;\n",
       "    padding: 0;\n",
       "    width: 32px;\n",
       "  }\n",
       "\n",
       "  .colab-df-quickchart:hover {\n",
       "    background-color: var(--hover-bg-color);\n",
       "    box-shadow: 0 1px 2px rgba(60, 64, 67, 0.3), 0 1px 3px 1px rgba(60, 64, 67, 0.15);\n",
       "    fill: var(--button-hover-fill-color);\n",
       "  }\n",
       "\n",
       "  .colab-df-quickchart-complete:disabled,\n",
       "  .colab-df-quickchart-complete:disabled:hover {\n",
       "    background-color: var(--disabled-bg-color);\n",
       "    fill: var(--disabled-fill-color);\n",
       "    box-shadow: none;\n",
       "  }\n",
       "\n",
       "  .colab-df-spinner {\n",
       "    border: 2px solid var(--fill-color);\n",
       "    border-color: transparent;\n",
       "    border-bottom-color: var(--fill-color);\n",
       "    animation:\n",
       "      spin 1s steps(1) infinite;\n",
       "  }\n",
       "\n",
       "  @keyframes spin {\n",
       "    0% {\n",
       "      border-color: transparent;\n",
       "      border-bottom-color: var(--fill-color);\n",
       "      border-left-color: var(--fill-color);\n",
       "    }\n",
       "    20% {\n",
       "      border-color: transparent;\n",
       "      border-left-color: var(--fill-color);\n",
       "      border-top-color: var(--fill-color);\n",
       "    }\n",
       "    30% {\n",
       "      border-color: transparent;\n",
       "      border-left-color: var(--fill-color);\n",
       "      border-top-color: var(--fill-color);\n",
       "      border-right-color: var(--fill-color);\n",
       "    }\n",
       "    40% {\n",
       "      border-color: transparent;\n",
       "      border-right-color: var(--fill-color);\n",
       "      border-top-color: var(--fill-color);\n",
       "    }\n",
       "    60% {\n",
       "      border-color: transparent;\n",
       "      border-right-color: var(--fill-color);\n",
       "    }\n",
       "    80% {\n",
       "      border-color: transparent;\n",
       "      border-right-color: var(--fill-color);\n",
       "      border-bottom-color: var(--fill-color);\n",
       "    }\n",
       "    90% {\n",
       "      border-color: transparent;\n",
       "      border-bottom-color: var(--fill-color);\n",
       "    }\n",
       "  }\n",
       "</style>\n",
       "\n",
       "  <script>\n",
       "    async function quickchart(key) {\n",
       "      const quickchartButtonEl =\n",
       "        document.querySelector('#' + key + ' button');\n",
       "      quickchartButtonEl.disabled = true;  // To prevent multiple clicks.\n",
       "      quickchartButtonEl.classList.add('colab-df-spinner');\n",
       "      try {\n",
       "        const charts = await google.colab.kernel.invokeFunction(\n",
       "            'suggestCharts', [key], {});\n",
       "      } catch (error) {\n",
       "        console.error('Error during call to suggestCharts:', error);\n",
       "      }\n",
       "      quickchartButtonEl.classList.remove('colab-df-spinner');\n",
       "      quickchartButtonEl.classList.add('colab-df-quickchart-complete');\n",
       "    }\n",
       "    (() => {\n",
       "      let quickchartButtonEl =\n",
       "        document.querySelector('#df-1f3c6aa8-a973-4503-881a-6cd4e627df88 button');\n",
       "      quickchartButtonEl.style.display =\n",
       "        google.colab.kernel.accessAllowed ? 'block' : 'none';\n",
       "    })();\n",
       "  </script>\n",
       "</div>\n",
       "\n",
       "    </div>\n",
       "  </div>\n"
      ],
      "text/plain": [
       "Location   Australia  New Zealand  Singapore\n",
       "MidPeriod                                   \n",
       "1950.5      8177.348     1908.011   1022.095\n",
       "1951.5      8398.224     1947.929   1067.797\n",
       "1952.5      8595.064     1992.809   1119.932\n",
       "1953.5      8782.177     2040.237   1177.580\n",
       "1954.5      8970.121     2088.488   1239.692\n",
       "...              ...          ...        ...\n",
       "2015.5     23932.499     4614.527   5592.143\n",
       "2016.5     24262.710     4659.265   5653.625\n",
       "2017.5     24584.619     4702.029   5708.042\n",
       "2018.5     24898.153     4743.131   5757.503\n",
       "2019.5     25203.200     4783.062   5804.343\n",
       "\n",
       "[70 rows x 3 columns]"
      ]
     },
     "execution_count": 42,
     "metadata": {},
     "output_type": "execute_result"
    }
   ],
   "source": [
    "dataforplotting.pivot_table(index=['MidPeriod'], columns='Location', values='Population')"
   ]
  },
  {
   "cell_type": "code",
   "execution_count": 43,
   "metadata": {
    "colab": {
     "base_uri": "https://localhost:8080/",
     "height": 449
    },
    "id": "4Su9Q_zRYafh",
    "outputId": "2159e959-7c02-4746-8e26-984a4e56ca69"
   },
   "outputs": [
    {
     "data": {
      "image/png": "[encoded data removed]",
      "text/plain": [
       "<Figure size 640x480 with 1 Axes>"
      ]
     },
     "metadata": {},
     "output_type": "display_data"
    }
   ],
   "source": [
    "ax = dataforplotting.pivot_table(index=['MidPeriod'], columns='Location', values='Population').plot()\n",
    "ax.set_xlabel('Year');\n",
    "ax.set_ylabel('Population in thousands');"
   ]
  },
  {
   "cell_type": "markdown",
   "metadata": {
    "id": "lk7vpgzhoyyu"
   },
   "source": [
    "World population of children (age 0-17) along with those of the age groups 18-39 and 40+ from 1950 to 2019."
   ]
  },
  {
   "cell_type": "code",
   "execution_count": 44,
   "metadata": {
    "id": "3seZfEDKztf1"
   },
   "outputs": [],
   "source": [
    "world_data = df[df.Location == \"World\"]\\\n",
    "                  .withColumn('AgeCategory',\\\n",
    "                              when(df.AgeGrpStart <= 17, '0-17')\\\n",
    "                              .when(df.AgeGrpStart >= 40, '40+')\\\n",
    "                              .otherwise('18-39'))\\\n",
    "                  .select('MidPeriod', 'AgeGrpStart',\\\n",
    "                          'AgeCategory', 'PopTotal') \\\n",
    "                  .groupBy('MidPeriod', 'AgeCategory')\\\n",
    "                  .sum('PopTotal')\\\n",
    "                  .withColumnRenamed('sum(PopTotal)', 'Population')\\\n",
    "                  .withColumn('Population', round('Population', 3))"
   ]
  },
  {
   "cell_type": "code",
   "execution_count": 45,
   "metadata": {
    "id": "r4TBvqSxNB0X"
   },
   "outputs": [],
   "source": [
    "agegrp_df = world_data.toPandas()"
   ]
  },
  {
   "cell_type": "code",
   "execution_count": 46,
   "metadata": {
    "colab": {
     "base_uri": "https://localhost:8080/",
     "height": 465
    },
    "id": "zvn4652v0LBB",
    "outputId": "80783f39-998e-488f-df49-3e161fb4843d"
   },
   "outputs": [
    {
     "data": {
      "image/png": "[encoded data removed]",
      "text/plain": [
       "<Figure size 640x480 with 1 Axes>"
      ]
     },
     "metadata": {},
     "output_type": "display_data"
    }
   ],
   "source": [
    "ax = agegrp_df.pivot_table(index=['MidPeriod'], columns='AgeCategory', values='Population').plot()\n",
    "ax.set_xlabel('Year');\n",
    "ax.set_ylabel('Population in thousands');"
   ]
  },
  {
   "cell_type": "markdown",
   "metadata": {
    "id": "CjanSfzLshCY"
   },
   "source": [
    "## Population Pyramid\n",
    "\n",
    "China in the year 1980."
   ]
  },
  {
   "cell_type": "code",
   "execution_count": 47,
   "metadata": {
    "id": "y-kPKZoSpvu1"
   },
   "outputs": [],
   "source": [
    "china_1980 = df.filter((df.Location == 'China (and dependencies)') & (df.Time == 1980)).toPandas()"
   ]
  },
  {
   "cell_type": "code",
   "execution_count": 48,
   "metadata": {
    "colab": {
     "base_uri": "https://localhost:8080/",
     "height": 423
    },
    "id": "7QO-QPj5-BFa",
    "outputId": "32a2002d-b127-4931-b615-126a09536c6d"
   },
   "outputs": [
    {
     "data": {
      "application/vnd.google.colaboratory.intrinsic+json": {
       "summary": "{\n  \"name\": \"china_1980\",\n  \"rows\": 101,\n  \"fields\": [\n    {\n      \"column\": \"LocID\",\n      \"properties\": {\n        \"dtype\": \"category\",\n        \"num_unique_values\": 1,\n        \"samples\": [\n          \"1105\"\n        ],\n        \"semantic_type\": \"\",\n        \"description\": \"\"\n      }\n    },\n    {\n      \"column\": \"Location\",\n      \"properties\": {\n        \"dtype\": \"category\",\n        \"num_unique_values\": 1,\n        \"samples\": [\n          \"China (and dependencies)\"\n        ],\n        \"semantic_type\": \"\",\n        \"description\": \"\"\n      }\n    },\n    {\n      \"column\": \"Time\",\n      \"properties\": {\n        \"dtype\": \"int32\",\n        \"num_unique_values\": 1,\n        \"samples\": [\n          1980\n        ],\n        \"semantic_type\": \"\",\n        \"description\": \"\"\n      }\n    },\n    {\n      \"column\": \"MidPeriod\",\n      \"properties\": {\n        \"dtype\": \"float32\",\n        \"num_unique_values\": 1,\n        \"samples\": [\n          1980.5\n        ],\n        \"semantic_type\": \"\",\n        \"description\": \"\"\n      }\n    },\n    {\n      \"column\": \"AgeGrp\",\n      \"properties\": {\n        \"dtype\": \"int32\",\n        \"num_unique_values\": 101,\n        \"samples\": [\n          84\n        ],\n        \"semantic_type\": \"\",\n        \"description\": \"\"\n      }\n    },\n    {\n      \"column\": \"AgeGrpStart\",\n      \"properties\": {\n        \"dtype\": \"int32\",\n        \"num_unique_values\": 101,\n        \"samples\": [\n          84\n        ],\n        \"semantic_type\": \"\",\n        \"description\": \"\"\n      }\n    },\n    {\n      \"column\": \"AgeGrpSpan\",\n      \"properties\": {\n        \"dtype\": \"int32\",\n        \"num_unique_values\": 2,\n        \"samples\": [\n          -1\n        ],\n        \"semantic_type\": \"\",\n        \"description\": \"\"\n      }\n    },\n    {\n      \"column\": \"PopMale\",\n      \"properties\": {\n        \"dtype\": \"float32\",\n        \"num_unique_values\": 101,\n        \"samples\": [\n          137.11900329589844\n        ],\n        \"semantic_type\": \"\",\n        \"description\": \"\"\n      }\n    },\n    {\n      \"column\": \"PopFemale\",\n      \"properties\": {\n        \"dtype\": \"float32\",\n        \"num_unique_values\": 101,\n        \"samples\": [\n          253.47999572753906\n        ],\n        \"semantic_type\": \"\",\n        \"description\": \"\"\n      }\n    },\n    {\n      \"column\": \"PopTotal\",\n      \"properties\": {\n        \"dtype\": \"float32\",\n        \"num_unique_values\": 101,\n        \"samples\": [\n          390.5989990234375\n        ],\n        \"semantic_type\": \"\",\n        \"description\": \"\"\n      }\n    }\n  ]\n}",
       "type": "dataframe",
       "variable_name": "china_1980"
      },
      "text/html": [
       "\n",
       "  <div id=\"df-87ff6a81-f477-4ee7-bd99-1c0b472c48c1\" class=\"colab-df-container\">\n",
       "    <div>\n",
       "<style scoped>\n",
       "    .dataframe tbody tr th:only-of-type {\n",
       "        vertical-align: middle;\n",
       "    }\n",
       "\n",
       "    .dataframe tbody tr th {\n",
       "        vertical-align: top;\n",
       "    }\n",
       "\n",
       "    .dataframe thead th {\n",
       "        text-align: right;\n",
       "    }\n",
       "</style>\n",
       "<table border=\"1\" class=\"dataframe\">\n",
       "  <thead>\n",
       "    <tr style=\"text-align: right;\">\n",
       "      <th></th>\n",
       "      <th>LocID</th>\n",
       "      <th>Location</th>\n",
       "      <th>Time</th>\n",
       "      <th>MidPeriod</th>\n",
       "      <th>AgeGrp</th>\n",
       "      <th>AgeGrpStart</th>\n",
       "      <th>AgeGrpSpan</th>\n",
       "      <th>PopMale</th>\n",
       "      <th>PopFemale</th>\n",
       "      <th>PopTotal</th>\n",
       "    </tr>\n",
       "  </thead>\n",
       "  <tbody>\n",
       "    <tr>\n",
       "      <th>0</th>\n",
       "      <td>1105</td>\n",
       "      <td>China (and dependencies)</td>\n",
       "      <td>1980</td>\n",
       "      <td>1980.5</td>\n",
       "      <td>0</td>\n",
       "      <td>0</td>\n",
       "      <td>1</td>\n",
       "      <td>9345.832031</td>\n",
       "      <td>8896.928711</td>\n",
       "      <td>18242.761719</td>\n",
       "    </tr>\n",
       "    <tr>\n",
       "      <th>1</th>\n",
       "      <td>1105</td>\n",
       "      <td>China (and dependencies)</td>\n",
       "      <td>1980</td>\n",
       "      <td>1980.5</td>\n",
       "      <td>1</td>\n",
       "      <td>1</td>\n",
       "      <td>1</td>\n",
       "      <td>10080.731445</td>\n",
       "      <td>9500.591797</td>\n",
       "      <td>19581.322266</td>\n",
       "    </tr>\n",
       "    <tr>\n",
       "      <th>2</th>\n",
       "      <td>1105</td>\n",
       "      <td>China (and dependencies)</td>\n",
       "      <td>1980</td>\n",
       "      <td>1980.5</td>\n",
       "      <td>2</td>\n",
       "      <td>2</td>\n",
       "      <td>1</td>\n",
       "      <td>10769.024414</td>\n",
       "      <td>10093.152344</td>\n",
       "      <td>20862.175781</td>\n",
       "    </tr>\n",
       "    <tr>\n",
       "      <th>3</th>\n",
       "      <td>1105</td>\n",
       "      <td>China (and dependencies)</td>\n",
       "      <td>1980</td>\n",
       "      <td>1980.5</td>\n",
       "      <td>3</td>\n",
       "      <td>3</td>\n",
       "      <td>1</td>\n",
       "      <td>11404.811523</td>\n",
       "      <td>10664.711914</td>\n",
       "      <td>22069.523438</td>\n",
       "    </tr>\n",
       "    <tr>\n",
       "      <th>4</th>\n",
       "      <td>1105</td>\n",
       "      <td>China (and dependencies)</td>\n",
       "      <td>1980</td>\n",
       "      <td>1980.5</td>\n",
       "      <td>4</td>\n",
       "      <td>4</td>\n",
       "      <td>1</td>\n",
       "      <td>11982.184570</td>\n",
       "      <td>11205.377930</td>\n",
       "      <td>23187.562500</td>\n",
       "    </tr>\n",
       "    <tr>\n",
       "      <th>...</th>\n",
       "      <td>...</td>\n",
       "      <td>...</td>\n",
       "      <td>...</td>\n",
       "      <td>...</td>\n",
       "      <td>...</td>\n",
       "      <td>...</td>\n",
       "      <td>...</td>\n",
       "      <td>...</td>\n",
       "      <td>...</td>\n",
       "      <td>...</td>\n",
       "    </tr>\n",
       "    <tr>\n",
       "      <th>96</th>\n",
       "      <td>1105</td>\n",
       "      <td>China (and dependencies)</td>\n",
       "      <td>1980</td>\n",
       "      <td>1980.5</td>\n",
       "      <td>96</td>\n",
       "      <td>96</td>\n",
       "      <td>1</td>\n",
       "      <td>1.198000</td>\n",
       "      <td>3.994000</td>\n",
       "      <td>5.192000</td>\n",
       "    </tr>\n",
       "    <tr>\n",
       "      <th>97</th>\n",
       "      <td>1105</td>\n",
       "      <td>China (and dependencies)</td>\n",
       "      <td>1980</td>\n",
       "      <td>1980.5</td>\n",
       "      <td>97</td>\n",
       "      <td>97</td>\n",
       "      <td>1</td>\n",
       "      <td>0.894000</td>\n",
       "      <td>3.042000</td>\n",
       "      <td>3.936000</td>\n",
       "    </tr>\n",
       "    <tr>\n",
       "      <th>98</th>\n",
       "      <td>1105</td>\n",
       "      <td>China (and dependencies)</td>\n",
       "      <td>1980</td>\n",
       "      <td>1980.5</td>\n",
       "      <td>98</td>\n",
       "      <td>98</td>\n",
       "      <td>1</td>\n",
       "      <td>0.576000</td>\n",
       "      <td>2.022000</td>\n",
       "      <td>2.598000</td>\n",
       "    </tr>\n",
       "    <tr>\n",
       "      <th>99</th>\n",
       "      <td>1105</td>\n",
       "      <td>China (and dependencies)</td>\n",
       "      <td>1980</td>\n",
       "      <td>1980.5</td>\n",
       "      <td>99</td>\n",
       "      <td>99</td>\n",
       "      <td>1</td>\n",
       "      <td>0.240000</td>\n",
       "      <td>0.933000</td>\n",
       "      <td>1.173000</td>\n",
       "    </tr>\n",
       "    <tr>\n",
       "      <th>100</th>\n",
       "      <td>1105</td>\n",
       "      <td>China (and dependencies)</td>\n",
       "      <td>1980</td>\n",
       "      <td>1980.5</td>\n",
       "      <td>100</td>\n",
       "      <td>100</td>\n",
       "      <td>-1</td>\n",
       "      <td>0.169000</td>\n",
       "      <td>0.975000</td>\n",
       "      <td>1.144000</td>\n",
       "    </tr>\n",
       "  </tbody>\n",
       "</table>\n",
       "<p>101 rows × 10 columns</p>\n",
       "</div>\n",
       "    <div class=\"colab-df-buttons\">\n",
       "\n",
       "  <div class=\"colab-df-container\">\n",
       "    <button class=\"colab-df-convert\" onclick=\"convertToInteractive('df-87ff6a81-f477-4ee7-bd99-1c0b472c48c1')\"\n",
       "            title=\"Convert this dataframe to an interactive table.\"\n",
       "            style=\"display:none;\">\n",
       "\n",
       "  <svg xmlns=\"http://www.w3.org/2000/svg\" height=\"24px\" viewBox=\"0 -960 960 960\">\n",
       "    <path d=\"M120-120v-720h720v720H120Zm60-500h600v-160H180v160Zm220 220h160v-160H400v160Zm0 220h160v-160H400v160ZM180-400h160v-160H180v160Zm440 0h160v-160H620v160ZM180-180h160v-160H180v160Zm440 0h160v-160H620v160Z\"/>\n",
       "  </svg>\n",
       "    </button>\n",
       "\n",
       "  <style>\n",
       "    .colab-df-container {\n",
       "      display:flex;\n",
       "      gap: 12px;\n",
       "    }\n",
       "\n",
       "    .colab-df-convert {\n",
       "      background-color: #E8F0FE;\n",
       "      border: none;\n",
       "      border-radius: 50%;\n",
       "      cursor: pointer;\n",
       "      display: none;\n",
       "      fill: #1967D2;\n",
       "      height: 32px;\n",
       "      padding: 0 0 0 0;\n",
       "      width: 32px;\n",
       "    }\n",
       "\n",
       "    .colab-df-convert:hover {\n",
       "      background-color: #E2EBFA;\n",
       "      box-shadow: 0px 1px 2px rgba(60, 64, 67, 0.3), 0px 1px 3px 1px rgba(60, 64, 67, 0.15);\n",
       "      fill: #174EA6;\n",
       "    }\n",
       "\n",
       "    .colab-df-buttons div {\n",
       "      margin-bottom: 4px;\n",
       "    }\n",
       "\n",
       "    [theme=dark] .colab-df-convert {\n",
       "      background-color: #3B4455;\n",
       "      fill: #D2E3FC;\n",
       "    }\n",
       "\n",
       "    [theme=dark] .colab-df-convert:hover {\n",
       "      background-color: #434B5C;\n",
       "      box-shadow: 0px 1px 3px 1px rgba(0, 0, 0, 0.15);\n",
       "      filter: drop-shadow(0px 1px 2px rgba(0, 0, 0, 0.3));\n",
       "      fill: #FFFFFF;\n",
       "    }\n",
       "  </style>\n",
       "\n",
       "    <script>\n",
       "      const buttonEl =\n",
       "        document.querySelector('#df-87ff6a81-f477-4ee7-bd99-1c0b472c48c1 button.colab-df-convert');\n",
       "      buttonEl.style.display =\n",
       "        google.colab.kernel.accessAllowed ? 'block' : 'none';\n",
       "\n",
       "      async function convertToInteractive(key) {\n",
       "        const element = document.querySelector('#df-87ff6a81-f477-4ee7-bd99-1c0b472c48c1');\n",
       "        const dataTable =\n",
       "          await google.colab.kernel.invokeFunction('convertToInteractive',\n",
       "                                                    [key], {});\n",
       "        if (!dataTable) return;\n",
       "\n",
       "        const docLinkHtml = 'Like what you see? Visit the ' +\n",
       "          '<a target=\"_blank\" href=https://colab.research.google.com/notebooks/data_table.ipynb>data table notebook</a>'\n",
       "          + ' to learn more about interactive tables.';\n",
       "        element.innerHTML = '';\n",
       "        dataTable['output_type'] = 'display_data';\n",
       "        await google.colab.output.renderOutput(dataTable, element);\n",
       "        const docLink = document.createElement('div');\n",
       "        docLink.innerHTML = docLinkHtml;\n",
       "        element.appendChild(docLink);\n",
       "      }\n",
       "    </script>\n",
       "  </div>\n",
       "\n",
       "\n",
       "<div id=\"df-8758b0dc-8491-4bb8-96e0-a86e81a48ef9\">\n",
       "  <button class=\"colab-df-quickchart\" onclick=\"quickchart('df-8758b0dc-8491-4bb8-96e0-a86e81a48ef9')\"\n",
       "            title=\"Suggest charts\"\n",
       "            style=\"display:none;\">\n",
       "\n",
       "<svg xmlns=\"http://www.w3.org/2000/svg\" height=\"24px\"viewBox=\"0 0 24 24\"\n",
       "     width=\"24px\">\n",
       "    <g>\n",
       "        <path d=\"M19 3H5c-1.1 0-2 .9-2 2v14c0 1.1.9 2 2 2h14c1.1 0 2-.9 2-2V5c0-1.1-.9-2-2-2zM9 17H7v-7h2v7zm4 0h-2V7h2v10zm4 0h-2v-4h2v4z\"/>\n",
       "    </g>\n",
       "</svg>\n",
       "  </button>\n",
       "\n",
       "<style>\n",
       "  .colab-df-quickchart {\n",
       "      --bg-color: #E8F0FE;\n",
       "      --fill-color: #1967D2;\n",
       "      --hover-bg-color: #E2EBFA;\n",
       "      --hover-fill-color: #174EA6;\n",
       "      --disabled-fill-color: #AAA;\n",
       "      --disabled-bg-color: #DDD;\n",
       "  }\n",
       "\n",
       "  [theme=dark] .colab-df-quickchart {\n",
       "      --bg-color: #3B4455;\n",
       "      --fill-color: #D2E3FC;\n",
       "      --hover-bg-color: #434B5C;\n",
       "      --hover-fill-color: #FFFFFF;\n",
       "      --disabled-bg-color: #3B4455;\n",
       "      --disabled-fill-color: #666;\n",
       "  }\n",
       "\n",
       "  .colab-df-quickchart {\n",
       "    background-color: var(--bg-color);\n",
       "    border: none;\n",
       "    border-radius: 50%;\n",
       "    cursor: pointer;\n",
       "    display: none;\n",
       "    fill: var(--fill-color);\n",
       "    height: 32px;\n",
       "    padding: 0;\n",
       "    width: 32px;\n",
       "  }\n",
       "\n",
       "  .colab-df-quickchart:hover {\n",
       "    background-color: var(--hover-bg-color);\n",
       "    box-shadow: 0 1px 2px rgba(60, 64, 67, 0.3), 0 1px 3px 1px rgba(60, 64, 67, 0.15);\n",
       "    fill: var(--button-hover-fill-color);\n",
       "  }\n",
       "\n",
       "  .colab-df-quickchart-complete:disabled,\n",
       "  .colab-df-quickchart-complete:disabled:hover {\n",
       "    background-color: var(--disabled-bg-color);\n",
       "    fill: var(--disabled-fill-color);\n",
       "    box-shadow: none;\n",
       "  }\n",
       "\n",
       "  .colab-df-spinner {\n",
       "    border: 2px solid var(--fill-color);\n",
       "    border-color: transparent;\n",
       "    border-bottom-color: var(--fill-color);\n",
       "    animation:\n",
       "      spin 1s steps(1) infinite;\n",
       "  }\n",
       "\n",
       "  @keyframes spin {\n",
       "    0% {\n",
       "      border-color: transparent;\n",
       "      border-bottom-color: var(--fill-color);\n",
       "      border-left-color: var(--fill-color);\n",
       "    }\n",
       "    20% {\n",
       "      border-color: transparent;\n",
       "      border-left-color: var(--fill-color);\n",
       "      border-top-color: var(--fill-color);\n",
       "    }\n",
       "    30% {\n",
       "      border-color: transparent;\n",
       "      border-left-color: var(--fill-color);\n",
       "      border-top-color: var(--fill-color);\n",
       "      border-right-color: var(--fill-color);\n",
       "    }\n",
       "    40% {\n",
       "      border-color: transparent;\n",
       "      border-right-color: var(--fill-color);\n",
       "      border-top-color: var(--fill-color);\n",
       "    }\n",
       "    60% {\n",
       "      border-color: transparent;\n",
       "      border-right-color: var(--fill-color);\n",
       "    }\n",
       "    80% {\n",
       "      border-color: transparent;\n",
       "      border-right-color: var(--fill-color);\n",
       "      border-bottom-color: var(--fill-color);\n",
       "    }\n",
       "    90% {\n",
       "      border-color: transparent;\n",
       "      border-bottom-color: var(--fill-color);\n",
       "    }\n",
       "  }\n",
       "</style>\n",
       "\n",
       "  <script>\n",
       "    async function quickchart(key) {\n",
       "      const quickchartButtonEl =\n",
       "        document.querySelector('#' + key + ' button');\n",
       "      quickchartButtonEl.disabled = true;  // To prevent multiple clicks.\n",
       "      quickchartButtonEl.classList.add('colab-df-spinner');\n",
       "      try {\n",
       "        const charts = await google.colab.kernel.invokeFunction(\n",
       "            'suggestCharts', [key], {});\n",
       "      } catch (error) {\n",
       "        console.error('Error during call to suggestCharts:', error);\n",
       "      }\n",
       "      quickchartButtonEl.classList.remove('colab-df-spinner');\n",
       "      quickchartButtonEl.classList.add('colab-df-quickchart-complete');\n",
       "    }\n",
       "    (() => {\n",
       "      let quickchartButtonEl =\n",
       "        document.querySelector('#df-8758b0dc-8491-4bb8-96e0-a86e81a48ef9 button');\n",
       "      quickchartButtonEl.style.display =\n",
       "        google.colab.kernel.accessAllowed ? 'block' : 'none';\n",
       "    })();\n",
       "  </script>\n",
       "</div>\n",
       "\n",
       "  <div id=\"id_1bc8c293-9311-4ac7-9c21-edc48734b56e\">\n",
       "    <style>\n",
       "      .colab-df-generate {\n",
       "        background-color: #E8F0FE;\n",
       "        border: none;\n",
       "        border-radius: 50%;\n",
       "        cursor: pointer;\n",
       "        display: none;\n",
       "        fill: #1967D2;\n",
       "        height: 32px;\n",
       "        padding: 0 0 0 0;\n",
       "        width: 32px;\n",
       "      }\n",
       "\n",
       "      .colab-df-generate:hover {\n",
       "        background-color: #E2EBFA;\n",
       "        box-shadow: 0px 1px 2px rgba(60, 64, 67, 0.3), 0px 1px 3px 1px rgba(60, 64, 67, 0.15);\n",
       "        fill: #174EA6;\n",
       "      }\n",
       "\n",
       "      [theme=dark] .colab-df-generate {\n",
       "        background-color: #3B4455;\n",
       "        fill: #D2E3FC;\n",
       "      }\n",
       "\n",
       "      [theme=dark] .colab-df-generate:hover {\n",
       "        background-color: #434B5C;\n",
       "        box-shadow: 0px 1px 3px 1px rgba(0, 0, 0, 0.15);\n",
       "        filter: drop-shadow(0px 1px 2px rgba(0, 0, 0, 0.3));\n",
       "        fill: #FFFFFF;\n",
       "      }\n",
       "    </style>\n",
       "    <button class=\"colab-df-generate\" onclick=\"generateWithVariable('china_1980')\"\n",
       "            title=\"Generate code using this dataframe.\"\n",
       "            style=\"display:none;\">\n",
       "\n",
       "  <svg xmlns=\"http://www.w3.org/2000/svg\" height=\"24px\"viewBox=\"0 0 24 24\"\n",
       "       width=\"24px\">\n",
       "    <path d=\"M7,19H8.4L18.45,9,17,7.55,7,17.6ZM5,21V16.75L18.45,3.32a2,2,0,0,1,2.83,0l1.4,1.43a1.91,1.91,0,0,1,.58,1.4,1.91,1.91,0,0,1-.58,1.4L9.25,21ZM18.45,9,17,7.55Zm-12,3A5.31,5.31,0,0,0,4.9,8.1,5.31,5.31,0,0,0,1,6.5,5.31,5.31,0,0,0,4.9,4.9,5.31,5.31,0,0,0,6.5,1,5.31,5.31,0,0,0,8.1,4.9,5.31,5.31,0,0,0,12,6.5,5.46,5.46,0,0,0,6.5,12Z\"/>\n",
       "  </svg>\n",
       "    </button>\n",
       "    <script>\n",
       "      (() => {\n",
       "      const buttonEl =\n",
       "        document.querySelector('#id_1bc8c293-9311-4ac7-9c21-edc48734b56e button.colab-df-generate');\n",
       "      buttonEl.style.display =\n",
       "        google.colab.kernel.accessAllowed ? 'block' : 'none';\n",
       "\n",
       "      buttonEl.onclick = () => {\n",
       "        google.colab.notebook.generateWithVariable('china_1980');\n",
       "      }\n",
       "      })();\n",
       "    </script>\n",
       "  </div>\n",
       "\n",
       "    </div>\n",
       "  </div>\n"
      ],
      "text/plain": [
       "    LocID                  Location  Time  MidPeriod  AgeGrp  AgeGrpStart  \\\n",
       "0    1105  China (and dependencies)  1980     1980.5       0            0   \n",
       "1    1105  China (and dependencies)  1980     1980.5       1            1   \n",
       "2    1105  China (and dependencies)  1980     1980.5       2            2   \n",
       "3    1105  China (and dependencies)  1980     1980.5       3            3   \n",
       "4    1105  China (and dependencies)  1980     1980.5       4            4   \n",
       "..    ...                       ...   ...        ...     ...          ...   \n",
       "96   1105  China (and dependencies)  1980     1980.5      96           96   \n",
       "97   1105  China (and dependencies)  1980     1980.5      97           97   \n",
       "98   1105  China (and dependencies)  1980     1980.5      98           98   \n",
       "99   1105  China (and dependencies)  1980     1980.5      99           99   \n",
       "100  1105  China (and dependencies)  1980     1980.5     100          100   \n",
       "\n",
       "     AgeGrpSpan       PopMale     PopFemale      PopTotal  \n",
       "0             1   9345.832031   8896.928711  18242.761719  \n",
       "1             1  10080.731445   9500.591797  19581.322266  \n",
       "2             1  10769.024414  10093.152344  20862.175781  \n",
       "3             1  11404.811523  10664.711914  22069.523438  \n",
       "4             1  11982.184570  11205.377930  23187.562500  \n",
       "..          ...           ...           ...           ...  \n",
       "96            1      1.198000      3.994000      5.192000  \n",
       "97            1      0.894000      3.042000      3.936000  \n",
       "98            1      0.576000      2.022000      2.598000  \n",
       "99            1      0.240000      0.933000      1.173000  \n",
       "100          -1      0.169000      0.975000      1.144000  \n",
       "\n",
       "[101 rows x 10 columns]"
      ]
     },
     "execution_count": 48,
     "metadata": {},
     "output_type": "execute_result"
    }
   ],
   "source": [
    "china_1980"
   ]
  },
  {
   "cell_type": "code",
   "execution_count": 49,
   "metadata": {
    "colab": {
     "base_uri": "https://localhost:8080/",
     "height": 300
    },
    "id": "nDnOzJv590KU",
    "outputId": "d51ed9a0-8249-4ed3-d64c-3306af98dcb4"
   },
   "outputs": [
    {
     "data": {
      "application/vnd.google.colaboratory.intrinsic+json": {
       "summary": "{\n  \"name\": \"china_1980\",\n  \"rows\": 8,\n  \"fields\": [\n    {\n      \"column\": \"Time\",\n      \"properties\": {\n        \"dtype\": \"number\",\n        \"std\": 893.592738412112,\n        \"min\": 0.0,\n        \"max\": 1980.0,\n        \"num_unique_values\": 3,\n        \"samples\": [\n          101.0,\n          1980.0,\n          0.0\n        ],\n        \"semantic_type\": \"\",\n        \"description\": \"\"\n      }\n    },\n    {\n      \"column\": \"MidPeriod\",\n      \"properties\": {\n        \"dtype\": \"number\",\n        \"std\": 893.8240878383173,\n        \"min\": 0.0,\n        \"max\": 1980.5,\n        \"num_unique_values\": 3,\n        \"samples\": [\n          101.0,\n          1980.5,\n          0.0\n        ],\n        \"semantic_type\": \"\",\n        \"description\": \"\"\n      }\n    },\n    {\n      \"column\": \"AgeGrp\",\n      \"properties\": {\n        \"dtype\": \"number\",\n        \"std\": 36.18350135577044,\n        \"min\": 0.0,\n        \"max\": 101.0,\n        \"num_unique_values\": 7,\n        \"samples\": [\n          101.0,\n          50.0,\n          75.0\n        ],\n        \"semantic_type\": \"\",\n        \"description\": \"\"\n      }\n    },\n    {\n      \"column\": \"AgeGrpStart\",\n      \"properties\": {\n        \"dtype\": \"number\",\n        \"std\": 36.18350135577044,\n        \"min\": 0.0,\n        \"max\": 101.0,\n        \"num_unique_values\": 7,\n        \"samples\": [\n          101.0,\n          50.0,\n          75.0\n        ],\n        \"semantic_type\": \"\",\n        \"description\": \"\"\n      }\n    },\n    {\n      \"column\": \"AgeGrpSpan\",\n      \"properties\": {\n        \"dtype\": \"number\",\n        \"std\": 35.504863317831955,\n        \"min\": -1.0,\n        \"max\": 101.0,\n        \"num_unique_values\": 5,\n        \"samples\": [\n          0.9801980198019802,\n          1.0,\n          0.19900743804199783\n        ],\n        \"semantic_type\": \"\",\n        \"description\": \"\"\n      }\n    },\n    {\n      \"column\": \"PopMale\",\n      \"properties\": {\n        \"dtype\": \"number\",\n        \"std\": 4880.2711087871185,\n        \"min\": 0.16899999976158142,\n        \"max\": 14015.841796875,\n        \"num_unique_values\": 8,\n        \"samples\": [\n          5200.05029296875,\n          4447.30322265625,\n          101.0\n        ],\n        \"semantic_type\": \"\",\n        \"description\": \"\"\n      }\n    },\n    {\n      \"column\": \"PopFemale\",\n      \"properties\": {\n        \"dtype\": \"number\",\n        \"std\": 4636.080717248868,\n        \"min\": 0.9330000281333923,\n        \"max\": 13443.6025390625,\n        \"num_unique_values\": 8,\n        \"samples\": [\n          4929.66796875,\n          3898.0859375,\n          101.0\n        ],\n        \"semantic_type\": \"\",\n        \"description\": \"\"\n      }\n    },\n    {\n      \"column\": \"PopTotal\",\n      \"properties\": {\n        \"dtype\": \"number\",\n        \"std\": 9528.230329299506,\n        \"min\": 1.1440000534057617,\n        \"max\": 27459.4453125,\n        \"num_unique_values\": 8,\n        \"samples\": [\n          10129.71875,\n          8345.388671875,\n          101.0\n        ],\n        \"semantic_type\": \"\",\n        \"description\": \"\"\n      }\n    }\n  ]\n}",
       "type": "dataframe"
      },
      "text/html": [
       "\n",
       "  <div id=\"df-825c2594-6607-465c-a0c2-fb7a1dc5bf45\" class=\"colab-df-container\">\n",
       "    <div>\n",
       "<style scoped>\n",
       "    .dataframe tbody tr th:only-of-type {\n",
       "        vertical-align: middle;\n",
       "    }\n",
       "\n",
       "    .dataframe tbody tr th {\n",
       "        vertical-align: top;\n",
       "    }\n",
       "\n",
       "    .dataframe thead th {\n",
       "        text-align: right;\n",
       "    }\n",
       "</style>\n",
       "<table border=\"1\" class=\"dataframe\">\n",
       "  <thead>\n",
       "    <tr style=\"text-align: right;\">\n",
       "      <th></th>\n",
       "      <th>Time</th>\n",
       "      <th>MidPeriod</th>\n",
       "      <th>AgeGrp</th>\n",
       "      <th>AgeGrpStart</th>\n",
       "      <th>AgeGrpSpan</th>\n",
       "      <th>PopMale</th>\n",
       "      <th>PopFemale</th>\n",
       "      <th>PopTotal</th>\n",
       "    </tr>\n",
       "  </thead>\n",
       "  <tbody>\n",
       "    <tr>\n",
       "      <th>count</th>\n",
       "      <td>101.0</td>\n",
       "      <td>101.0</td>\n",
       "      <td>101.000000</td>\n",
       "      <td>101.000000</td>\n",
       "      <td>101.000000</td>\n",
       "      <td>101.000000</td>\n",
       "      <td>101.000000</td>\n",
       "      <td>101.000000</td>\n",
       "    </tr>\n",
       "    <tr>\n",
       "      <th>mean</th>\n",
       "      <td>1980.0</td>\n",
       "      <td>1980.5</td>\n",
       "      <td>50.000000</td>\n",
       "      <td>50.000000</td>\n",
       "      <td>0.980198</td>\n",
       "      <td>5200.050293</td>\n",
       "      <td>4929.667969</td>\n",
       "      <td>10129.718750</td>\n",
       "    </tr>\n",
       "    <tr>\n",
       "      <th>std</th>\n",
       "      <td>0.0</td>\n",
       "      <td>0.0</td>\n",
       "      <td>29.300171</td>\n",
       "      <td>29.300171</td>\n",
       "      <td>0.199007</td>\n",
       "      <td>4547.521973</td>\n",
       "      <td>4259.915039</td>\n",
       "      <td>8804.997070</td>\n",
       "    </tr>\n",
       "    <tr>\n",
       "      <th>min</th>\n",
       "      <td>1980.0</td>\n",
       "      <td>1980.5</td>\n",
       "      <td>0.000000</td>\n",
       "      <td>0.000000</td>\n",
       "      <td>-1.000000</td>\n",
       "      <td>0.169000</td>\n",
       "      <td>0.933000</td>\n",
       "      <td>1.144000</td>\n",
       "    </tr>\n",
       "    <tr>\n",
       "      <th>25%</th>\n",
       "      <td>1980.0</td>\n",
       "      <td>1980.5</td>\n",
       "      <td>25.000000</td>\n",
       "      <td>25.000000</td>\n",
       "      <td>1.000000</td>\n",
       "      <td>843.093994</td>\n",
       "      <td>1183.671997</td>\n",
       "      <td>2026.765991</td>\n",
       "    </tr>\n",
       "    <tr>\n",
       "      <th>50%</th>\n",
       "      <td>1980.0</td>\n",
       "      <td>1980.5</td>\n",
       "      <td>50.000000</td>\n",
       "      <td>50.000000</td>\n",
       "      <td>1.000000</td>\n",
       "      <td>4447.303223</td>\n",
       "      <td>3898.085938</td>\n",
       "      <td>8345.388672</td>\n",
       "    </tr>\n",
       "    <tr>\n",
       "      <th>75%</th>\n",
       "      <td>1980.0</td>\n",
       "      <td>1980.5</td>\n",
       "      <td>75.000000</td>\n",
       "      <td>75.000000</td>\n",
       "      <td>1.000000</td>\n",
       "      <td>9345.832031</td>\n",
       "      <td>8896.928711</td>\n",
       "      <td>18242.761719</td>\n",
       "    </tr>\n",
       "    <tr>\n",
       "      <th>max</th>\n",
       "      <td>1980.0</td>\n",
       "      <td>1980.5</td>\n",
       "      <td>100.000000</td>\n",
       "      <td>100.000000</td>\n",
       "      <td>1.000000</td>\n",
       "      <td>14015.841797</td>\n",
       "      <td>13443.602539</td>\n",
       "      <td>27459.445312</td>\n",
       "    </tr>\n",
       "  </tbody>\n",
       "</table>\n",
       "</div>\n",
       "    <div class=\"colab-df-buttons\">\n",
       "\n",
       "  <div class=\"colab-df-container\">\n",
       "    <button class=\"colab-df-convert\" onclick=\"convertToInteractive('df-825c2594-6607-465c-a0c2-fb7a1dc5bf45')\"\n",
       "            title=\"Convert this dataframe to an interactive table.\"\n",
       "            style=\"display:none;\">\n",
       "\n",
       "  <svg xmlns=\"http://www.w3.org/2000/svg\" height=\"24px\" viewBox=\"0 -960 960 960\">\n",
       "    <path d=\"M120-120v-720h720v720H120Zm60-500h600v-160H180v160Zm220 220h160v-160H400v160Zm0 220h160v-160H400v160ZM180-400h160v-160H180v160Zm440 0h160v-160H620v160ZM180-180h160v-160H180v160Zm440 0h160v-160H620v160Z\"/>\n",
       "  </svg>\n",
       "    </button>\n",
       "\n",
       "  <style>\n",
       "    .colab-df-container {\n",
       "      display:flex;\n",
       "      gap: 12px;\n",
       "    }\n",
       "\n",
       "    .colab-df-convert {\n",
       "      background-color: #E8F0FE;\n",
       "      border: none;\n",
       "      border-radius: 50%;\n",
       "      cursor: pointer;\n",
       "      display: none;\n",
       "      fill: #1967D2;\n",
       "      height: 32px;\n",
       "      padding: 0 0 0 0;\n",
       "      width: 32px;\n",
       "    }\n",
       "\n",
       "    .colab-df-convert:hover {\n",
       "      background-color: #E2EBFA;\n",
       "      box-shadow: 0px 1px 2px rgba(60, 64, 67, 0.3), 0px 1px 3px 1px rgba(60, 64, 67, 0.15);\n",
       "      fill: #174EA6;\n",
       "    }\n",
       "\n",
       "    .colab-df-buttons div {\n",
       "      margin-bottom: 4px;\n",
       "    }\n",
       "\n",
       "    [theme=dark] .colab-df-convert {\n",
       "      background-color: #3B4455;\n",
       "      fill: #D2E3FC;\n",
       "    }\n",
       "\n",
       "    [theme=dark] .colab-df-convert:hover {\n",
       "      background-color: #434B5C;\n",
       "      box-shadow: 0px 1px 3px 1px rgba(0, 0, 0, 0.15);\n",
       "      filter: drop-shadow(0px 1px 2px rgba(0, 0, 0, 0.3));\n",
       "      fill: #FFFFFF;\n",
       "    }\n",
       "  </style>\n",
       "\n",
       "    <script>\n",
       "      const buttonEl =\n",
       "        document.querySelector('#df-825c2594-6607-465c-a0c2-fb7a1dc5bf45 button.colab-df-convert');\n",
       "      buttonEl.style.display =\n",
       "        google.colab.kernel.accessAllowed ? 'block' : 'none';\n",
       "\n",
       "      async function convertToInteractive(key) {\n",
       "        const element = document.querySelector('#df-825c2594-6607-465c-a0c2-fb7a1dc5bf45');\n",
       "        const dataTable =\n",
       "          await google.colab.kernel.invokeFunction('convertToInteractive',\n",
       "                                                    [key], {});\n",
       "        if (!dataTable) return;\n",
       "\n",
       "        const docLinkHtml = 'Like what you see? Visit the ' +\n",
       "          '<a target=\"_blank\" href=https://colab.research.google.com/notebooks/data_table.ipynb>data table notebook</a>'\n",
       "          + ' to learn more about interactive tables.';\n",
       "        element.innerHTML = '';\n",
       "        dataTable['output_type'] = 'display_data';\n",
       "        await google.colab.output.renderOutput(dataTable, element);\n",
       "        const docLink = document.createElement('div');\n",
       "        docLink.innerHTML = docLinkHtml;\n",
       "        element.appendChild(docLink);\n",
       "      }\n",
       "    </script>\n",
       "  </div>\n",
       "\n",
       "\n",
       "<div id=\"df-3d7daba3-11bd-4895-9943-6e0c1eefa9c1\">\n",
       "  <button class=\"colab-df-quickchart\" onclick=\"quickchart('df-3d7daba3-11bd-4895-9943-6e0c1eefa9c1')\"\n",
       "            title=\"Suggest charts\"\n",
       "            style=\"display:none;\">\n",
       "\n",
       "<svg xmlns=\"http://www.w3.org/2000/svg\" height=\"24px\"viewBox=\"0 0 24 24\"\n",
       "     width=\"24px\">\n",
       "    <g>\n",
       "        <path d=\"M19 3H5c-1.1 0-2 .9-2 2v14c0 1.1.9 2 2 2h14c1.1 0 2-.9 2-2V5c0-1.1-.9-2-2-2zM9 17H7v-7h2v7zm4 0h-2V7h2v10zm4 0h-2v-4h2v4z\"/>\n",
       "    </g>\n",
       "</svg>\n",
       "  </button>\n",
       "\n",
       "<style>\n",
       "  .colab-df-quickchart {\n",
       "      --bg-color: #E8F0FE;\n",
       "      --fill-color: #1967D2;\n",
       "      --hover-bg-color: #E2EBFA;\n",
       "      --hover-fill-color: #174EA6;\n",
       "      --disabled-fill-color: #AAA;\n",
       "      --disabled-bg-color: #DDD;\n",
       "  }\n",
       "\n",
       "  [theme=dark] .colab-df-quickchart {\n",
       "      --bg-color: #3B4455;\n",
       "      --fill-color: #D2E3FC;\n",
       "      --hover-bg-color: #434B5C;\n",
       "      --hover-fill-color: #FFFFFF;\n",
       "      --disabled-bg-color: #3B4455;\n",
       "      --disabled-fill-color: #666;\n",
       "  }\n",
       "\n",
       "  .colab-df-quickchart {\n",
       "    background-color: var(--bg-color);\n",
       "    border: none;\n",
       "    border-radius: 50%;\n",
       "    cursor: pointer;\n",
       "    display: none;\n",
       "    fill: var(--fill-color);\n",
       "    height: 32px;\n",
       "    padding: 0;\n",
       "    width: 32px;\n",
       "  }\n",
       "\n",
       "  .colab-df-quickchart:hover {\n",
       "    background-color: var(--hover-bg-color);\n",
       "    box-shadow: 0 1px 2px rgba(60, 64, 67, 0.3), 0 1px 3px 1px rgba(60, 64, 67, 0.15);\n",
       "    fill: var(--button-hover-fill-color);\n",
       "  }\n",
       "\n",
       "  .colab-df-quickchart-complete:disabled,\n",
       "  .colab-df-quickchart-complete:disabled:hover {\n",
       "    background-color: var(--disabled-bg-color);\n",
       "    fill: var(--disabled-fill-color);\n",
       "    box-shadow: none;\n",
       "  }\n",
       "\n",
       "  .colab-df-spinner {\n",
       "    border: 2px solid var(--fill-color);\n",
       "    border-color: transparent;\n",
       "    border-bottom-color: var(--fill-color);\n",
       "    animation:\n",
       "      spin 1s steps(1) infinite;\n",
       "  }\n",
       "\n",
       "  @keyframes spin {\n",
       "    0% {\n",
       "      border-color: transparent;\n",
       "      border-bottom-color: var(--fill-color);\n",
       "      border-left-color: var(--fill-color);\n",
       "    }\n",
       "    20% {\n",
       "      border-color: transparent;\n",
       "      border-left-color: var(--fill-color);\n",
       "      border-top-color: var(--fill-color);\n",
       "    }\n",
       "    30% {\n",
       "      border-color: transparent;\n",
       "      border-left-color: var(--fill-color);\n",
       "      border-top-color: var(--fill-color);\n",
       "      border-right-color: var(--fill-color);\n",
       "    }\n",
       "    40% {\n",
       "      border-color: transparent;\n",
       "      border-right-color: var(--fill-color);\n",
       "      border-top-color: var(--fill-color);\n",
       "    }\n",
       "    60% {\n",
       "      border-color: transparent;\n",
       "      border-right-color: var(--fill-color);\n",
       "    }\n",
       "    80% {\n",
       "      border-color: transparent;\n",
       "      border-right-color: var(--fill-color);\n",
       "      border-bottom-color: var(--fill-color);\n",
       "    }\n",
       "    90% {\n",
       "      border-color: transparent;\n",
       "      border-bottom-color: var(--fill-color);\n",
       "    }\n",
       "  }\n",
       "</style>\n",
       "\n",
       "  <script>\n",
       "    async function quickchart(key) {\n",
       "      const quickchartButtonEl =\n",
       "        document.querySelector('#' + key + ' button');\n",
       "      quickchartButtonEl.disabled = true;  // To prevent multiple clicks.\n",
       "      quickchartButtonEl.classList.add('colab-df-spinner');\n",
       "      try {\n",
       "        const charts = await google.colab.kernel.invokeFunction(\n",
       "            'suggestCharts', [key], {});\n",
       "      } catch (error) {\n",
       "        console.error('Error during call to suggestCharts:', error);\n",
       "      }\n",
       "      quickchartButtonEl.classList.remove('colab-df-spinner');\n",
       "      quickchartButtonEl.classList.add('colab-df-quickchart-complete');\n",
       "    }\n",
       "    (() => {\n",
       "      let quickchartButtonEl =\n",
       "        document.querySelector('#df-3d7daba3-11bd-4895-9943-6e0c1eefa9c1 button');\n",
       "      quickchartButtonEl.style.display =\n",
       "        google.colab.kernel.accessAllowed ? 'block' : 'none';\n",
       "    })();\n",
       "  </script>\n",
       "</div>\n",
       "\n",
       "    </div>\n",
       "  </div>\n"
      ],
      "text/plain": [
       "         Time  MidPeriod      AgeGrp  AgeGrpStart  AgeGrpSpan       PopMale  \\\n",
       "count   101.0      101.0  101.000000   101.000000  101.000000    101.000000   \n",
       "mean   1980.0     1980.5   50.000000    50.000000    0.980198   5200.050293   \n",
       "std       0.0        0.0   29.300171    29.300171    0.199007   4547.521973   \n",
       "min    1980.0     1980.5    0.000000     0.000000   -1.000000      0.169000   \n",
       "25%    1980.0     1980.5   25.000000    25.000000    1.000000    843.093994   \n",
       "50%    1980.0     1980.5   50.000000    50.000000    1.000000   4447.303223   \n",
       "75%    1980.0     1980.5   75.000000    75.000000    1.000000   9345.832031   \n",
       "max    1980.0     1980.5  100.000000   100.000000    1.000000  14015.841797   \n",
       "\n",
       "          PopFemale      PopTotal  \n",
       "count    101.000000    101.000000  \n",
       "mean    4929.667969  10129.718750  \n",
       "std     4259.915039   8804.997070  \n",
       "min        0.933000      1.144000  \n",
       "25%     1183.671997   2026.765991  \n",
       "50%     3898.085938   8345.388672  \n",
       "75%     8896.928711  18242.761719  \n",
       "max    13443.602539  27459.445312  "
      ]
     },
     "execution_count": 49,
     "metadata": {},
     "output_type": "execute_result"
    }
   ],
   "source": [
    "china_1980.describe()"
   ]
  },
  {
   "cell_type": "markdown",
   "metadata": {
    "id": "sxwmLmbpT-MU"
   },
   "source": [
    "Creating age brackets in multiples of 5 - such as 0-4, 5-9, ..."
   ]
  },
  {
   "cell_type": "code",
   "execution_count": 50,
   "metadata": {
    "id": "EDNkxHWPtIBv"
   },
   "outputs": [],
   "source": [
    "lower = china_1980['AgeGrpStart'] - (china_1980['AgeGrpStart'] % 5)"
   ]
  },
  {
   "cell_type": "code",
   "execution_count": 51,
   "metadata": {
    "id": "qDdobQzVvS6O"
   },
   "outputs": [],
   "source": [
    "agebrackets = [f'{x:02d}-{(x+4):02d}' for x in lower.values]\n",
    "agebrackets[-1] = '100+'"
   ]
  },
  {
   "cell_type": "code",
   "execution_count": 52,
   "metadata": {
    "colab": {
     "base_uri": "https://localhost:8080/"
    },
    "id": "aXkHlTwrUJgp",
    "outputId": "131364ff-c20f-432d-a04a-013d505ad61a"
   },
   "outputs": [
    {
     "data": {
      "text/plain": [
       "['00-04',\n",
       " '00-04',\n",
       " '00-04',\n",
       " '00-04',\n",
       " '00-04',\n",
       " '05-09',\n",
       " '05-09',\n",
       " '05-09',\n",
       " '05-09',\n",
       " '05-09']"
      ]
     },
     "execution_count": 52,
     "metadata": {},
     "output_type": "execute_result"
    }
   ],
   "source": [
    "agebrackets[:10]"
   ]
  },
  {
   "cell_type": "code",
   "execution_count": 53,
   "metadata": {
    "id": "zLRoES0Lv-DV"
   },
   "outputs": [],
   "source": [
    "china_1980['AgeRange'] = agebrackets"
   ]
  },
  {
   "cell_type": "markdown",
   "metadata": {
    "id": "wFh9qf_QUYmA"
   },
   "source": [
    "Populations by age range."
   ]
  },
  {
   "cell_type": "code",
   "execution_count": 54,
   "metadata": {
    "id": "HzwkqTnfvIbA"
   },
   "outputs": [],
   "source": [
    "agg_china_1980 = (china_1980.groupby(['AgeRange']).sum()[['PopMale', 'PopFemale']]/1000).reset_index()"
   ]
  },
  {
   "cell_type": "code",
   "execution_count": 55,
   "metadata": {
    "id": "LZ56Ouu0xshz"
   },
   "outputs": [],
   "source": [
    "rev_age = list(dict.fromkeys(agebrackets[::-1])) #reversed list of ages"
   ]
  },
  {
   "cell_type": "code",
   "execution_count": 56,
   "metadata": {
    "id": "Rr81_Qa03L49"
   },
   "outputs": [],
   "source": [
    "agg_china_1980['NegPopMale'] = -agg_china_1980['PopMale']"
   ]
  },
  {
   "cell_type": "markdown",
   "metadata": {
    "id": "BO-L2tVTUzMv"
   },
   "source": [
    "Population pyramid plot:"
   ]
  },
  {
   "cell_type": "code",
   "execution_count": 57,
   "metadata": {
    "colab": {
     "base_uri": "https://localhost:8080/",
     "height": 854
    },
    "id": "PH5G2AS2GM5P",
    "outputId": "135dbcfa-458d-49bb-82e4-5ea652faa57d"
   },
   "outputs": [
    {
     "name": "stderr",
     "output_type": "stream",
     "text": [
      "<ipython-input-57-d4fb341c2b66>:6: UserWarning: set_ticklabels() should only be used with a fixed number of ticks, i.e. after set_ticks() or using a FixedLocator.\n",
      "  bar_plot.set_xticklabels(labels)\n",
      "<ipython-input-57-d4fb341c2b66>:14: UserWarning: set_ticklabels() should only be used with a fixed number of ticks, i.e. after set_ticks() or using a FixedLocator.\n",
      "  bar_plot.set_xticklabels(bar_plot.get_xticklabels(), size = 15);\n",
      "<ipython-input-57-d4fb341c2b66>:15: UserWarning: set_ticklabels() should only be used with a fixed number of ticks, i.e. after set_ticks() or using a FixedLocator.\n",
      "  bar_plot.set_yticklabels(bar_plot.get_yticklabels(), size = 15);\n"
     ]
    },
    {
     "data": {
      "image/png": "[encoded data removed]",
      "text/plain": [
       "<Figure size 1200x800 with 1 Axes>"
      ]
     },
     "metadata": {},
     "output_type": "display_data"
    }
   ],
   "source": [
    "sns.set(rc={'figure.figsize':(12,8)})\n",
    "bar_plot = sns.barplot(x='NegPopMale', y='AgeRange', data=agg_china_1980, order = rev_age, color='red')\n",
    "bar_plot = sns.barplot(x='PopFemale', y='AgeRange', data=agg_china_1980, order = rev_age, color='green')\n",
    "\n",
    "labels = [\"80\", \"60\", \"40\", \"20\", \"0\", \"20\", \"40\", \"60\", \"80\"]\n",
    "bar_plot.set_xticklabels(labels)\n",
    "\n",
    "h = [bar_plot.bar(x=.1, height=.1, color = c) for c in ['red', 'green']] #used to set colour of bar in legend\n",
    "bar_plot.legend(handles = h, labels=['Male', 'Female'], fontsize=20)\n",
    "\n",
    "bar_plot.axes.set_title(\"Population Pyramid for China (1980)\", fontsize=20);\n",
    "bar_plot.set_xlabel(\"Population (millions)\", fontsize=20);\n",
    "bar_plot.set_ylabel(\"Age Group\", fontsize=20);\n",
    "bar_plot.set_xticklabels(bar_plot.get_xticklabels(), size = 15);\n",
    "bar_plot.set_yticklabels(bar_plot.get_yticklabels(), size = 15);"
   ]
  },
  {
   "cell_type": "markdown",
   "metadata": {
    "id": "pco3DxAAAo_b"
   },
   "source": [
    "## Prediction\n",
    "Using Spark's MLlib library in a linear regression problem. Predicting the proportion of population to be of a particular age, given year.\n",
    "\n",
    "Inputs:\n",
    "- year\n",
    "- age\n",
    "\n",
    "Target variable:\n",
    "- proportion of a country's population to be of that age, in that year\n"
   ]
  },
  {
   "cell_type": "code",
   "execution_count": 58,
   "metadata": {
    "id": "3mB-EMYcA98W"
   },
   "outputs": [],
   "source": [
    "pop_by_loc_and_year = df.groupBy('Location', 'Time')\\\n",
    "                        .sum('PopTotal')\\\n",
    "                        .withColumnRenamed('sum(PopTotal)', 'Location_year_pop')"
   ]
  },
  {
   "cell_type": "code",
   "execution_count": 59,
   "metadata": {
    "colab": {
     "base_uri": "https://localhost:8080/"
    },
    "id": "SxNyiVNEPxsu",
    "outputId": "e2adae65-caf1-4958-a1b3-1d22192d4921"
   },
   "outputs": [
    {
     "name": "stdout",
     "output_type": "stream",
     "text": [
      "+--------------------+----+------------------+\n",
      "|            Location|Time| Location_year_pop|\n",
      "+--------------------+----+------------------+\n",
      "|       African Union|1999| 790628.6244071722|\n",
      "|African Union: Ea...|1964| 78209.82484335266|\n",
      "|             Albania|1960|1636.0909999981523|\n",
      "|              Angola|1979| 8058.111999897286|\n",
      "|              Angola|1987|10689.246978582349|\n",
      "| Antigua and Barbuda|1995| 68.67199999373406|\n",
      "| Antigua and Barbuda|2017|  95.4249999569729|\n",
      "|           Argentina|2010| 40895.75102710724|\n",
      "|          Azerbaijan|2012| 9264.683963924646|\n",
      "|                BRIC|1981| 1991971.387032032|\n",
      "|               BRICS|1994| 2523968.064731598|\n",
      "|             Bahamas|1968|158.64800055802334|\n",
      "|             Bahrain|2014|1336.0730002257042|\n",
      "|          Bangladesh|1987| 95671.15840621479|\n",
      "|            Barbados|2019| 287.0210008621216|\n",
      "|Belt-Road Initiat...|1991| 579859.1757936478|\n",
      "|Belt-Road Initiat...|1963| 497522.4002505541|\n",
      "|Belt-Road Initiat...|2018| 1532885.483291626|\n",
      "|Belt-Road Initiat...|2017| 415587.5224170685|\n",
      "|Belt-Road Initiat...|1969| 91886.84786528349|\n",
      "+--------------------+----+------------------+\n",
      "only showing top 20 rows\n",
      "\n"
     ]
    }
   ],
   "source": [
    "pop_by_loc_and_year.show()"
   ]
  },
  {
   "cell_type": "code",
   "execution_count": 60,
   "metadata": {
    "id": "B_77KVAtFLeL"
   },
   "outputs": [],
   "source": [
    "trainingset = df.join(pop_by_loc_and_year, ['Location', 'Time'])\\\n",
    "  .withColumn('Proportion',\n",
    "              df.PopTotal/pop_by_loc_and_year.Location_year_pop)\\\n",
    "  .select('Time', 'AgeGrpStart', 'Proportion')"
   ]
  },
  {
   "cell_type": "markdown",
   "metadata": {
    "id": "UHP4f5U0VtVX"
   },
   "source": [
    "Correlation between AgeGrpStart and Proportion."
   ]
  },
  {
   "cell_type": "code",
   "execution_count": 61,
   "metadata": {
    "colab": {
     "base_uri": "https://localhost:8080/"
    },
    "id": "rIB8svOhRJo7",
    "outputId": "b8ea3c77-6279-4eb5-c894-7d1e651b6f85"
   },
   "outputs": [
    {
     "data": {
      "text/plain": [
       "-0.906289636077237"
      ]
     },
     "execution_count": 61,
     "metadata": {},
     "output_type": "execute_result"
    }
   ],
   "source": [
    "trainingset.stat.corr(\"AgeGrpStart\", \"Proportion\") #strong negative correlation"
   ]
  },
  {
   "cell_type": "markdown",
   "metadata": {
    "id": "FGzfs8RvRvta"
   },
   "source": [
    "Simple linear regression model predict Ratio from Time and AgeGrpStart."
   ]
  },
  {
   "cell_type": "code",
   "execution_count": 62,
   "metadata": {
    "id": "wLtarw5JRuSX"
   },
   "outputs": [],
   "source": [
    "from pyspark.ml.regression import LinearRegression"
   ]
  },
  {
   "cell_type": "markdown",
   "metadata": {
    "id": "S23U0wGtS4jg"
   },
   "source": [
    "MLlib takes input in vector form. Hence we need to create vectors from features."
   ]
  },
  {
   "cell_type": "code",
   "execution_count": 63,
   "metadata": {
    "id": "IJH5U9jXSFvO"
   },
   "outputs": [],
   "source": [
    "from pyspark.ml.feature import VectorAssembler\n",
    "featureassembler=VectorAssembler(inputCols=['Time', 'AgeGrpStart'],\n",
    "                                 outputCol='Features')"
   ]
  },
  {
   "cell_type": "code",
   "execution_count": 64,
   "metadata": {
    "colab": {
     "base_uri": "https://localhost:8080/"
    },
    "id": "LVFE_bD2TjQD",
    "outputId": "5eb3377b-288a-480f-ff74-cf0acb43b1fa"
   },
   "outputs": [
    {
     "name": "stdout",
     "output_type": "stream",
     "text": [
      "+-------------+--------------------+\n",
      "|     Features|          Proportion|\n",
      "+-------------+--------------------+\n",
      "| [1999.0,0.0]|0.034861880698940154|\n",
      "| [1999.0,1.0]|0.033504117654464094|\n",
      "| [1999.0,2.0]| 0.03229754709870501|\n",
      "| [1999.0,3.0]|0.031226978883906742|\n",
      "| [1999.0,4.0]| 0.03036231881608717|\n",
      "| [1999.0,5.0]|0.029540022684496337|\n",
      "| [1999.0,6.0]| 0.02879784229235586|\n",
      "| [1999.0,7.0]|0.028121706557925764|\n",
      "| [1999.0,8.0]| 0.02749754439946607|\n",
      "| [1999.0,9.0]|0.026922376581622418|\n",
      "|[1999.0,10.0]|0.026393226339384863|\n",
      "|[1999.0,11.0]| 0.02584056829977413|\n",
      "|[1999.0,12.0]|0.025228194624822717|\n",
      "|[1999.0,13.0]|0.024575277657470227|\n",
      "|[1999.0,14.0]| 0.02394366246993583|\n",
      "|[1999.0,15.0]|0.023328689992668676|\n",
      "|[1999.0,16.0]|0.022669283430560058|\n",
      "|[1999.0,17.0]|0.021943661756977005|\n",
      "|[1999.0,18.0]| 0.02117703730693325|\n",
      "|[1999.0,19.0]|0.020418749034089554|\n",
      "+-------------+--------------------+\n",
      "only showing top 20 rows\n",
      "\n"
     ]
    }
   ],
   "source": [
    "final_data_for_regression = featureassembler.transform(trainingset).select('Features', 'Proportion')\n",
    "final_data_for_regression.show()"
   ]
  },
  {
   "cell_type": "code",
   "execution_count": 65,
   "metadata": {
    "id": "JdJMPuEaUsU7"
   },
   "outputs": [],
   "source": [
    "train, test = final_data_for_regression.randomSplit([0.9,0.1])"
   ]
  },
  {
   "cell_type": "code",
   "execution_count": 66,
   "metadata": {
    "colab": {
     "base_uri": "https://localhost:8080/"
    },
    "id": "j0g2C3q7WJcn",
    "outputId": "aa3c7743-4c0b-492c-f59b-e45db8a2232b"
   },
   "outputs": [
    {
     "data": {
      "text/plain": [
       "DataFrame[Features: vector, Proportion: double]"
      ]
     },
     "execution_count": 66,
     "metadata": {},
     "output_type": "execute_result"
    }
   ],
   "source": [
    "train"
   ]
  },
  {
   "cell_type": "markdown",
   "metadata": {
    "id": "MDQKO1uSWbRk"
   },
   "source": [
    "Cache these dataframes into memory:"
   ]
  },
  {
   "cell_type": "code",
   "execution_count": 67,
   "metadata": {
    "id": "RMlSH4bSawox"
   },
   "outputs": [],
   "source": [
    "train = train.cache()"
   ]
  },
  {
   "cell_type": "code",
   "execution_count": 68,
   "metadata": {
    "id": "DQA6_pKbcRil"
   },
   "outputs": [],
   "source": [
    "test = test.cache()"
   ]
  },
  {
   "cell_type": "markdown",
   "metadata": {
    "id": "5tCkn1JRWkp_"
   },
   "source": [
    "Model training."
   ]
  },
  {
   "cell_type": "code",
   "execution_count": 69,
   "metadata": {
    "id": "HENx9aRyT6ye"
   },
   "outputs": [],
   "source": [
    "regressor = LinearRegression(featuresCol='Features', labelCol='Proportion')\n",
    "regressor = regressor.fit(train)"
   ]
  },
  {
   "cell_type": "code",
   "execution_count": 70,
   "metadata": {
    "colab": {
     "base_uri": "https://localhost:8080/"
    },
    "id": "cB1xBOeBUtq0",
    "outputId": "4f5f0e78-45e3-43b5-facf-6fc309c6b320"
   },
   "outputs": [
    {
     "data": {
      "text/plain": [
       "DenseVector([0.0, -0.0003])"
      ]
     },
     "execution_count": 70,
     "metadata": {},
     "output_type": "execute_result"
    }
   ],
   "source": [
    "regressor.coefficients"
   ]
  },
  {
   "cell_type": "code",
   "execution_count": 71,
   "metadata": {
    "colab": {
     "base_uri": "https://localhost:8080/"
    },
    "id": "cuq7d9GRUzjN",
    "outputId": "6b232926-547b-47c8-94e2-57ddae257e38"
   },
   "outputs": [
    {
     "data": {
      "text/plain": [
       "0.022890668386905795"
      ]
     },
     "execution_count": 71,
     "metadata": {},
     "output_type": "execute_result"
    }
   ],
   "source": [
    "regressor.intercept"
   ]
  },
  {
   "cell_type": "code",
   "execution_count": 72,
   "metadata": {
    "id": "r1hn6SdxU0rR"
   },
   "outputs": [],
   "source": [
    "predicted_results = regressor.evaluate(test)"
   ]
  },
  {
   "cell_type": "markdown",
   "metadata": {
    "id": "LOoUldddbOCu"
   },
   "source": [
    "Comparing predicted proportions with actual proportions:"
   ]
  },
  {
   "cell_type": "code",
   "execution_count": 73,
   "metadata": {
    "colab": {
     "base_uri": "https://localhost:8080/"
    },
    "id": "B5oY-pWtVI0t",
    "outputId": "798b4ca9-c00b-4237-fdf5-b747beaf49b4"
   },
   "outputs": [
    {
     "name": "stdout",
     "output_type": "stream",
     "text": [
      "+-------------+--------------------+--------------------+\n",
      "|     Features|          Proportion|          prediction|\n",
      "+-------------+--------------------+--------------------+\n",
      "| [1950.0,5.0]|0.029587707250879447| 0.02166552780039167|\n",
      "|[1950.0,10.0]|0.024230517338402927|0.020350789332502766|\n",
      "|[1950.0,19.0]|0.019414203319659956| 0.01798426009030274|\n",
      "|[1950.0,21.0]|0.018225533882470907| 0.01745836470314718|\n",
      "|[1950.0,33.0]|0.012228230507308693| 0.01430299238021381|\n",
      "|[1950.0,36.0]|0.011045064374422313| 0.01351414929948047|\n",
      "|[1950.0,38.0]|0.010354939495473024|0.012988253912324907|\n",
      "|[1950.0,48.0]|0.007345123408368...|  0.0103587769765471|\n",
      "|[1950.0,49.0]|0.006999108686861546| 0.01009582928296932|\n",
      "|[1950.0,57.0]|0.004890696749827147|0.007992247734347074|\n",
      "|[1950.0,73.0]|0.001589276471387704|0.003785084637102...|\n",
      "|[1950.0,74.0]|0.001417032458804...|0.003522136943524802|\n",
      "|[1950.0,93.0]|1.209472019295989...|-0.00147386923445...|\n",
      "| [1951.0,1.0]| 0.03606676769127769|0.022717364522334266|\n",
      "| [1951.0,4.0]|0.025819805916740927|0.021928521441600925|\n",
      "| [1951.0,4.0]|0.026350629227072868|0.021928521441600925|\n",
      "| [1951.0,4.0]|0.030402115422090994|0.021928521441600925|\n",
      "|[1951.0,11.0]|0.020918640000295814|0.020087887586556462|\n",
      "|[1951.0,16.0]| 0.02009527282227061|0.018773149118667558|\n",
      "|[1951.0,30.0]| 0.01402898662801178|0.015091881408578627|\n",
      "+-------------+--------------------+--------------------+\n",
      "only showing top 20 rows\n",
      "\n"
     ]
    }
   ],
   "source": [
    "predicted_results.predictions.show()"
   ]
  },
  {
   "cell_type": "markdown",
   "metadata": {
    "id": "qnFtxazpW65a"
   },
   "source": [
    "R-squared and the mean squared error."
   ]
  },
  {
   "cell_type": "code",
   "execution_count": 74,
   "metadata": {
    "colab": {
     "base_uri": "https://localhost:8080/"
    },
    "id": "CiExfxhOcwmx",
    "outputId": "0ee67135-9042-4008-905f-4b7e9f8ab83a"
   },
   "outputs": [
    {
     "data": {
      "text/plain": [
       "(0.8214161847183006, 1.2780771138817748e-05)"
      ]
     },
     "execution_count": 74,
     "metadata": {},
     "output_type": "execute_result"
    }
   ],
   "source": [
    "predicted_results.r2, predicted_results.meanSquaredError"
   ]
  },
  {
   "cell_type": "markdown",
   "metadata": {
    "id": "WLEy2Q5R0sUP"
   },
   "source": [
    "## Conclusion\n",
    "\n",
    "We can use Pyspark to make queries on a large dataset, save smaller datasets into Pandas dataframe for plotting and use MLlib for machine learning on a large dataset."
   ]
  }
 ],
 "metadata": {
  "colab": {
   "provenance": []
  },
  "kernelspec": {
   "display_name": "Python 3 (ipykernel)",
   "language": "python",
   "name": "python3"
  },
  "language_info": {
   "codemirror_mode": {
    "name": "ipython",
    "version": 3
   },
   "file_extension": ".py",
   "mimetype": "text/x-python",
   "name": "python",
   "nbconvert_exporter": "python",
   "pygments_lexer": "ipython3",
   "version": "3.11.5"
  }
 },
 "nbformat": 4,
 "nbformat_minor": 4
}
